{
 "cells": [
  {
   "cell_type": "markdown",
   "metadata": {},
   "source": [
    "# Problem set 3 (90 pts)\n",
    "\n",
    "## Important note: the template for your solution filename is Name_Surname_PS3.ipynb\n",
    "\n",
    "### The correct answer to the bonus question can be used as an additional reason to increase the final grade in the border case"
   ]
  },
  {
   "cell_type": "markdown",
   "metadata": {},
   "source": [
    "## Problem 1 (25 pts)\n",
    "\n",
    "- (5 pts) Prove that $\\mathrm{vec}(AXB) = (B^\\top \\otimes A)\\, \\mathrm{vec}(X)$ if $\\mathrm{vec}(X)$ is a columnwise reshape of a matrix into a long vector. What does it change if the reshape is rowwise? \n",
    "\n",
    "**Note:** To make a columnwise reshape in Python one should use ```np.reshape(X, order='f')```, where the string ```'f'``` stands for the Fortran ordering. \n",
    "\n",
    "- (2 pts) What is the complexity of a naive computation of $(A \\otimes B) x$? Show how it can be reduced.\n",
    "\n",
    "- (3 pts) Let matrices $A$ and $B$ have eigendecompositions $A = S_A\\Lambda_A S_A^{-1}$ and $B = S_B\\Lambda_B S^{-1}_B$. Find eigenvectors and eigenvalues of the matrix $A\\otimes I + I \\otimes B$, where dimension of $I$ coincides with the dimension of $A$ and $B$.\n",
    "\n",
    "\n",
    "- (10 pts) Let $A = \\mathrm{diag}\\left(\\frac{1}{1000},\\frac{2}{1000},\\dots \\frac{999}{1000}, 1, 1000 \\right)$. Estimate analytically the number of iterations required  to solve linear system with $A$ with the relative accuracy $10^{-4}$ using\n",
    "    - Richardson iteration with the optimal choice of parameter (use $2$-norm)\n",
    "    - Chebyshev iteration (use $2$-norm)\n",
    "    - Conjugate gradient method (use $A$-norm).\n",
    "    \n",
    "- (5 pts) Provide numerical confirmation of your estimate from theoretical point of view"
   ]
  },
  {
   "cell_type": "markdown",
   "metadata": {},
   "source": [
    "### Task 1.1\n",
    "\n",
    "Let $B.\\textrm{shape} = (m, n)$. Then $X$ must have $m$ columns.\n",
    "\n",
    "$k$-th column of $A X B$:\n",
    "$$(A X B)_{:, k} = A X B_{:, k} = A \\sum_{i = 1}^m X_{:, i} b_{ik} = \\sum_{i = 1}^m (b_{ik} A \\cdot X_{:, i}) = \\begin{bmatrix} b_{1k} A & b_{2k} A & \\ldots & b_{mk} A \\end{bmatrix} \\begin{bmatrix} X_{:, 1} \\\\ X_{:, 2} \\\\ \\vdots \\\\ X_{:, m} \\end{bmatrix} = ((B_{:, k})^\\top \\otimes A) \\mathrm{vec}(X), \\,\\,\\, k = 1, \\ldots, n$$\n",
    "\n",
    "$$\\mathrm{vec}(A X B) = \\begin{bmatrix} (A X B)_{:, 1} \\\\ \\vdots \\\\ (A X B)_{:, n} \\end{bmatrix} = \\begin{bmatrix} (B_{:, 1})^\\top \\otimes A \\\\ \\vdots \\\\ (B_{:, n})^\\top \\otimes A \\end{bmatrix} \\mathrm{vec}(X) = (B^\\top \\otimes A) \\mathrm{vec}(X)$$"
   ]
  },
  {
   "cell_type": "markdown",
   "metadata": {},
   "source": [
    "If reshape is rowwise, denote it as $\\mathrm{vecr}$. Let $A.\\textrm{shape} = (p, q)$. Then $X$ must have $q$ rows.\n",
    "\n",
    "$k$-th row of $A X B$:\n",
    "\n",
    "$$(A X B)_{k, :} = A_{k, :} X B = \\sum_{i = 1}^q a_{ki} X_{i, :} B = \\sum_{i = 1}^q (X_{i, :} \\cdot a_{ki} B) = \\begin{bmatrix} X_{1, :} & \\dots & X_{q, :} \\end{bmatrix} \\begin{bmatrix} a_{k1} B \\\\ \\vdots \\\\ a_{kq} B \\end{bmatrix} = \\mathrm{vecr}(X)^\\top ((A_{k, :})^\\top \\otimes B)$$\n",
    "\n",
    "$$\\mathrm{vecr}(A X B) = \\begin{bmatrix} ((A X B)_{1, :})^\\top \\\\ \\vdots \\\\ ((A X B)_{p, :})^\\top \\end{bmatrix} = \\begin{bmatrix} (\\mathrm{vecr}(X)^\\top ((A_{1, :})^\\top \\otimes B))^\\top \\\\ \\vdots \\\\ (\\mathrm{vecr}(X)^\\top ((A_{p, :})^\\top \\otimes B))^\\top \\end{bmatrix}$$\n",
    "\n",
    "Using the transpose property of the Kronecker product (https://en.wikipedia.org/wiki/Kronecker_product#Relations_to_other_matrix_operations) that $(A \\otimes B)^\\top = A^\\top \\otimes B^\\top$:\n",
    "\n",
    "$$\\mathrm{vecr}(A X B) = \\begin{bmatrix} A_{1, :} \\otimes B^\\top \\\\ \\vdots \\\\ A_{p, :} \\otimes B^\\top \\end{bmatrix} \\mathrm{vecr}(X) = (A \\otimes B^\\top) \\mathrm{vecr}(X)$$"
   ]
  },
  {
   "cell_type": "markdown",
   "metadata": {},
   "source": [
    "### Task 1.2\n",
    "\n",
    "Let $A.\\textrm{shape} = (m, n)$ and $B.\\textrm{shape} = (p, q)$, then $(A \\otimes B).\\textrm{shape} = (m p, n q)$. This means $x$ must have $n q$ elements. And the result of $(A \\otimes B) x$ has $m p$ elements.\n",
    "\n",
    "Each entry in the Kronecker product is a product of 2 scalars from $A$ and $B$, so, assuming constant-time entry lookup in $A$ and $B$, the complexity of Kronecker product is $O(m n p q)$. Next, multiplying $(A \\otimes B)$ by $x$ takes $O(n q)$ operations for each of $m p$ elements of the result which also gives $O(m n p q)$ complexity. In total, naive computation has $O(m n p q)$ complexity."
   ]
  },
  {
   "cell_type": "markdown",
   "metadata": {},
   "source": [
    "The complexity can be reduced using the results of **task 1.1**. Let $X = \\mathrm{reshape}(x, (q, n))$. Then, $(A \\otimes B) x = \\mathrm{vec}(B X A^\\top)$. If reshaping is efficient, that is if the memory reallocations do not take place and only the indexing rules change, the $\\mathrm{vec}$ operation can be considered to have constant time complexity, $O(1)$. If this is true, we can also not consider the transposition complexity. Then the total complexity of multiplication three matrices with shapes $(p, q)$, $(q, n)$ and $(n, m)$ will be $O(p q n + q n m)$. Now we have more efficient result than the naive approach $O(m n p q)$."
   ]
  },
  {
   "cell_type": "markdown",
   "metadata": {},
   "source": [
    "### Task 1.3\n",
    "\n",
    "Using the mixed-product property and the inverse of a Kronecker product property from https://en.wikipedia.org/wiki/Kronecker_product#Relations_to_other_matrix_operations:\n",
    "\n",
    "$$A \\otimes I + I \\otimes B = S_A \\Lambda_A S_A^{-1} \\otimes S_B S_B^{-1} + S_A S_A^{-1} \\otimes S_B \\Lambda_B S_B^{-1} = (S_A \\Lambda_A \\otimes S_B)(S_A^{-1} \\otimes S_B^{-1}) + (S_A \\otimes S_B \\Lambda_B)(S_A^{-1} \\otimes S_B^{-1}) = (S_A \\Lambda_A \\otimes S_B + S_A \\otimes S_B \\Lambda_B)(S_A^{-1} \\otimes S_B^{-1}) = ((S_A \\otimes S_B)(\\Lambda_A \\times I) + (S_A \\otimes S_B)(I \\otimes \\Lambda_B))(S_A \\otimes S_B)^{-1} = (S_A \\otimes S_B)(\\Lambda_A \\otimes I + I \\otimes \\Lambda_B)(S_A \\otimes S_B)^{-1} = S \\Lambda S^{-1}$$"
   ]
  },
  {
   "cell_type": "markdown",
   "metadata": {},
   "source": [
    "### Task 1.4.1\n",
    "\n",
    "From lecture 11: with the optimal choice of $\\tau$, the $L_2$ norm of error at $k$-th Richardson iteration $\\|e_k\\|_2 \\le q^k \\|e_0\\|_2 \\implies$ relative error is $\\frac{\\|e_k\\|_2}{\\|e_0\\|_2} \\le q^k$\n",
    "\n",
    "$$\\varkappa = \\mathrm{cond}(A) = \\frac{\\lambda_\\max}{\\lambda_\\min} = \\frac{1000}{\\frac{1}{1000}} = 10^6$$\n",
    "\n",
    "From lecture 11:\n",
    "\n",
    "$$q = \\frac{\\varkappa - 1}{\\varkappa + 1} = \\frac{999999}{1000001} \\approx 1$$\n",
    "\n",
    "In order to achieve $10^{-4}$ accuracy, $q^k \\le 10^{-4} \\implies k \\le \\log_q 10^{-4} = -4 \\frac{\\lg 10}{\\lg q} = -\\frac{4}{\\lg q} \\sim 4.5 \\cdot 10^6$ iterations.\n",
    "\n",
    "We are going to need millions of Richardson iterations to converge."
   ]
  },
  {
   "cell_type": "markdown",
   "metadata": {},
   "source": [
    "### Task 1.4.2\n",
    "\n",
    "From lecture 11, relative error at $(k + 1)$-th Chebyshev iteration is $\\frac{\\|e_{k + 1}\\|_2}{\\|e_0\\|_2} \\le C q^k$\n",
    "\n",
    "$$q = \\frac{\\sqrt{\\varkappa} - 1}{\\sqrt{\\varkappa} + 1} \\approx 0.9980...$$\n",
    "\n",
    "$$C q^k \\le 10^{-4} \\implies k \\le -\\log_q C - 4 \\log_q 10 = -\\frac{4 + \\lg C}{\\lg q} \\sim 10^4$$ for $C$ as large as $10^5$, which is better than Richardson iterations."
   ]
  },
  {
   "cell_type": "markdown",
   "metadata": {},
   "source": [
    "### Task 1.4.3\n",
    "\n",
    "From lecture 12: if the matrix has only $m$ different eigenvalues, CG converges in $m$ iterations. In the worst case scenario the algorithm converges in at most 1001 (rank of our matrix) iterations because under the hood it minimizes a quadratic functional.\n",
    "\n",
    "From https://en.wikipedia.org/wiki/Conjugate_gradient_method#Convergence_theorem, the relative error at $k$-th iteration can be estimated as:\n",
    "\n",
    "$$\\frac{\\|e_k\\|_A}{\\|e_0\\|_A} \\le 2 q^k$$\n",
    "\n",
    "$$q = \\frac{\\sqrt{\\varkappa} - 1}{\\sqrt{\\varkappa} + 1} \\approx 0.9980...$$\n",
    "\n",
    "This corresponds to Chebyshev iteration case with $C = 2$:\n",
    "\n",
    "$$2 q^k \\le 10^{-4} \\implies k \\le -\\frac{4 + \\lg 2}{\\lg q} \\sim 5 \\cdot 10^3$$\n",
    "\n",
    "Number of iterations to converge to $10^{-4}$ is bounded theoretically by $5000$ iterations but in fact it is going to take much less."
   ]
  },
  {
   "cell_type": "markdown",
   "metadata": {},
   "source": [
    "### Task 1.5"
   ]
  },
  {
   "cell_type": "code",
   "execution_count": 291,
   "metadata": {},
   "outputs": [],
   "source": [
    "# Your solution is here\n",
    "import numpy as np\n",
    "import scipy as sp\n",
    "import scipy.sparse"
   ]
  },
  {
   "cell_type": "code",
   "execution_count": 292,
   "metadata": {},
   "outputs": [],
   "source": [
    "def get_A(n=1000):\n",
    "    return sp.sparse.diags((*list(np.arange(1, n + 1) / n), n), format='csr')"
   ]
  },
  {
   "cell_type": "code",
   "execution_count": 293,
   "metadata": {},
   "outputs": [
    {
     "data": {
      "text/plain": [
       "array([[ 0.1,  0. ,  0. ,  0. ,  0. ,  0. ,  0. ,  0. ,  0. ,  0. ,  0. ],\n",
       "       [ 0. ,  0.2,  0. ,  0. ,  0. ,  0. ,  0. ,  0. ,  0. ,  0. ,  0. ],\n",
       "       [ 0. ,  0. ,  0.3,  0. ,  0. ,  0. ,  0. ,  0. ,  0. ,  0. ,  0. ],\n",
       "       [ 0. ,  0. ,  0. ,  0.4,  0. ,  0. ,  0. ,  0. ,  0. ,  0. ,  0. ],\n",
       "       [ 0. ,  0. ,  0. ,  0. ,  0.5,  0. ,  0. ,  0. ,  0. ,  0. ,  0. ],\n",
       "       [ 0. ,  0. ,  0. ,  0. ,  0. ,  0.6,  0. ,  0. ,  0. ,  0. ,  0. ],\n",
       "       [ 0. ,  0. ,  0. ,  0. ,  0. ,  0. ,  0.7,  0. ,  0. ,  0. ,  0. ],\n",
       "       [ 0. ,  0. ,  0. ,  0. ,  0. ,  0. ,  0. ,  0.8,  0. ,  0. ,  0. ],\n",
       "       [ 0. ,  0. ,  0. ,  0. ,  0. ,  0. ,  0. ,  0. ,  0.9,  0. ,  0. ],\n",
       "       [ 0. ,  0. ,  0. ,  0. ,  0. ,  0. ,  0. ,  0. ,  0. ,  1. ,  0. ],\n",
       "       [ 0. ,  0. ,  0. ,  0. ,  0. ,  0. ,  0. ,  0. ,  0. ,  0. , 10. ]])"
      ]
     },
     "execution_count": 293,
     "metadata": {},
     "output_type": "execute_result"
    }
   ],
   "source": [
    "get_A(10).toarray()"
   ]
  },
  {
   "cell_type": "code",
   "execution_count": 294,
   "metadata": {},
   "outputs": [],
   "source": [
    "def richardson(b, tol=1e-4, x=None):\n",
    "    A = get_A(b.size - 1)\n",
    "    tau = 2 / (A[0, 0] + A[-1, -1])\n",
    "    if x is None:\n",
    "        x = np.ones((A.shape[0], 1))\n",
    "    e0 = np.linalg.norm(A @ x - b)\n",
    "    err = e0\n",
    "    res = [1.]\n",
    "    \n",
    "    while err > tol and len(res) <= 1e9:\n",
    "        r = A @ x - b\n",
    "        x -= tau * r\n",
    "        err = np.linalg.norm(r) / e0\n",
    "        res.append(err)\n",
    "\n",
    "    if len(res) > 1e9:\n",
    "        print(f'Max number of iterations reached - {len(res)}')\n",
    "    return x, res"
   ]
  },
  {
   "cell_type": "code",
   "execution_count": 5,
   "metadata": {},
   "outputs": [
    {
     "name": "stdout",
     "output_type": "stream",
     "text": [
      "Richardson iteration took 4605090 iterations\n"
     ]
    }
   ],
   "source": [
    "_, res = richardson(np.ones((1001, 1)))\n",
    "print(f'Richardson iteration took {len(res)} iterations')"
   ]
  },
  {
   "cell_type": "code",
   "execution_count": 6,
   "metadata": {},
   "outputs": [],
   "source": [
    "import matplotlib.pyplot as plt"
   ]
  },
  {
   "cell_type": "code",
   "execution_count": 7,
   "metadata": {},
   "outputs": [
    {
     "data": {
      "image/png": "[encoded data removed]",
      "text/plain": [
       "<Figure size 432x288 with 1 Axes>"
      ]
     },
     "metadata": {
      "needs_background": "light"
     },
     "output_type": "display_data"
    }
   ],
   "source": [
    "plt.semilogy(res)\n",
    "plt.xlabel('Iteration')\n",
    "plt.ylabel('Relative residual')\n",
    "plt.title('Richardson iteration convergence');"
   ]
  },
  {
   "cell_type": "code",
   "execution_count": 8,
   "metadata": {},
   "outputs": [
    {
     "data": {
      "text/plain": [
       "9.999981493746652e-05"
      ]
     },
     "execution_count": 8,
     "metadata": {},
     "output_type": "execute_result"
    }
   ],
   "source": [
    "min(res)"
   ]
  },
  {
   "cell_type": "markdown",
   "metadata": {},
   "source": [
    "Richardson iteration has converged to $10^{-4}$ in $4605090$ iterations as we predicted."
   ]
  },
  {
   "cell_type": "markdown",
   "metadata": {},
   "source": []
  },
  {
   "cell_type": "code",
   "execution_count": 9,
   "metadata": {},
   "outputs": [],
   "source": [
    "def chebyshev(b, niters=4096, x=None):\n",
    "    A = get_A(b.size - 1)\n",
    "    roots = [np.cos((np.pi * (2 * i + 1)) / (2 * niters)) for i in range(niters)]\n",
    "    taus = [(A[-1, -1] + A[0, 0] - (A[0, 0] - A[-1, -1]) * r) / 2 for r in roots]\n",
    "    if x is None:\n",
    "        x = np.ones((A.shape[0], 1))\n",
    "    r = A @ x - b\n",
    "    e0 = np.linalg.norm(r)\n",
    "    res = [1.]\n",
    "    \n",
    "    for i in range(niters):\n",
    "        x -= 1 / taus[i] * r\n",
    "        r = A @ x - b\n",
    "        err = np.linalg.norm(r)\n",
    "        res.append(err / e0)\n",
    "        \n",
    "    return x, res"
   ]
  },
  {
   "cell_type": "code",
   "execution_count": 10,
   "metadata": {},
   "outputs": [
    {
     "name": "stderr",
     "output_type": "stream",
     "text": [
      "C:\\Users\\kuzne\\AppData\\Local\\Temp/ipykernel_20444/2685103172.py:12: RuntimeWarning: overflow encountered in multiply\n",
      "  x -= 1 / taus[i] * r\n",
      "C:\\Users\\kuzne\\AppData\\Local\\Temp/ipykernel_20444/2685103172.py:12: RuntimeWarning: invalid value encountered in subtract\n",
      "  x -= 1 / taus[i] * r\n"
     ]
    }
   ],
   "source": [
    "_, res = chebyshev(np.ones((1001, 1)), niters=2*2*16384)"
   ]
  },
  {
   "cell_type": "code",
   "execution_count": 11,
   "metadata": {},
   "outputs": [
    {
     "data": {
      "image/png": "[encoded data removed]",
      "text/plain": [
       "<Figure size 432x288 with 1 Axes>"
      ]
     },
     "metadata": {
      "needs_background": "light"
     },
     "output_type": "display_data"
    }
   ],
   "source": [
    "plt.semilogy(res)\n",
    "plt.xlabel('Iteration')\n",
    "plt.ylabel('Relative residual')\n",
    "plt.title('Chebyshev iteration convergence');"
   ]
  },
  {
   "cell_type": "code",
   "execution_count": 12,
   "metadata": {},
   "outputs": [
    {
     "data": {
      "text/plain": [
       "0.00011866895574707502"
      ]
     },
     "execution_count": 12,
     "metadata": {},
     "output_type": "execute_result"
    }
   ],
   "source": [
    "min(res)"
   ]
  },
  {
   "cell_type": "markdown",
   "metadata": {},
   "source": [
    "Chebyshev iteration has converged to $10^{-4}$ in $6 \\cdot 10^5$ iterations as we predicted. The plot of the residual shows that at some point the error starts to grow because we didn't implement permutation of roots for Chebyshev polynomials but it is ok since we only wanted to see how fast we could reach $10^{-4}$ error."
   ]
  },
  {
   "cell_type": "code",
   "execution_count": null,
   "metadata": {},
   "outputs": [],
   "source": []
  },
  {
   "cell_type": "code",
   "execution_count": 295,
   "metadata": {},
   "outputs": [],
   "source": [
    "import scipy.sparse.linalg"
   ]
  },
  {
   "cell_type": "code",
   "execution_count": 14,
   "metadata": {},
   "outputs": [
    {
     "name": "stdout",
     "output_type": "stream",
     "text": [
      "CG iteration: 1\n",
      "CG iteration: 2\n",
      "CG iteration: 3\n",
      "CG iteration: 4\n",
      "CG iteration: 5\n",
      "CG iteration: 6\n",
      "CG iteration: 7\n",
      "CG iteration: 8\n",
      "CG iteration: 9\n",
      "CG iteration: 10\n",
      "CG iteration: 11\n",
      "CG iteration: 12\n",
      "CG iteration: 13\n",
      "CG iteration: 14\n",
      "CG iteration: 15\n",
      "CG iteration: 16\n",
      "CG iteration: 17\n",
      "CG iteration: 18\n",
      "CG iteration: 19\n",
      "CG iteration: 20\n",
      "CG iteration: 21\n",
      "CG iteration: 22\n",
      "CG iteration: 23\n",
      "CG iteration: 24\n",
      "CG iteration: 25\n",
      "CG iteration: 26\n",
      "CG iteration: 27\n",
      "CG iteration: 28\n",
      "CG iteration: 29\n",
      "CG iteration: 30\n",
      "CG iteration: 31\n",
      "CG iteration: 32\n",
      "CG iteration: 33\n",
      "CG iteration: 34\n",
      "CG iteration: 35\n",
      "CG iteration: 36\n",
      "CG iteration: 37\n",
      "CG iteration: 38\n",
      "CG iteration: 39\n",
      "CG iteration: 40\n",
      "CG iteration: 41\n",
      "CG iteration: 42\n",
      "CG iteration: 43\n",
      "CG iteration: 44\n",
      "CG iteration: 45\n",
      "CG iteration: 46\n",
      "CG iteration: 47\n",
      "CG iteration: 48\n",
      "CG iteration: 49\n",
      "CG iteration: 50\n",
      "CG iteration: 51\n",
      "CG iteration: 52\n",
      "CG iteration: 53\n",
      "CG iteration: 54\n",
      "CG iteration: 55\n",
      "CG iteration: 56\n",
      "CG iteration: 57\n",
      "CG iteration: 58\n",
      "CG iteration: 59\n",
      "CG iteration: 60\n",
      "CG iteration: 61\n",
      "CG iteration: 62\n",
      "CG iteration: 63\n",
      "CG iteration: 64\n",
      "CG iteration: 65\n",
      "CG iteration: 66\n",
      "CG iteration: 67\n",
      "CG iteration: 68\n",
      "CG iteration: 69\n",
      "CG iteration: 70\n",
      "CG iteration: 71\n",
      "CG iteration: 72\n",
      "CG iteration: 73\n",
      "CG iteration: 74\n",
      "CG iteration: 75\n",
      "CG iteration: 76\n",
      "CG iteration: 77\n",
      "CG iteration: 78\n",
      "CG iteration: 79\n",
      "CG iteration: 80\n",
      "CG iteration: 81\n",
      "CG iteration: 82\n",
      "CG iteration: 83\n",
      "CG iteration: 84\n",
      "CG iteration: 85\n",
      "CG iteration: 86\n",
      "CG iteration: 87\n",
      "CG iteration: 88\n",
      "CG iteration: 89\n",
      "CG iteration: 90\n",
      "CG iteration: 91\n",
      "CG iteration: 92\n",
      "CG iteration: 93\n",
      "CG iteration: 94\n",
      "CG iteration: 95\n",
      "CG iteration: 96\n",
      "CG iteration: 97\n",
      "CG iteration: 98\n",
      "CG iteration: 99\n",
      "CG iteration: 100\n",
      "CG iteration: 101\n",
      "CG iteration: 102\n",
      "CG iteration: 103\n",
      "CG iteration: 104\n",
      "CG iteration: 105\n",
      "CG iteration: 106\n",
      "CG iteration: 107\n",
      "CG iteration: 108\n",
      "CG iteration: 109\n",
      "CG iteration: 110\n",
      "CG iteration: 111\n",
      "CG iteration: 112\n",
      "CG iteration: 113\n",
      "CG iteration: 114\n",
      "CG iteration: 115\n",
      "CG iteration: 116\n",
      "CG iteration: 117\n",
      "CG iteration: 118\n",
      "CG iteration: 119\n",
      "CG iteration: 120\n",
      "CG iteration: 121\n",
      "CG iteration: 122\n",
      "CG iteration: 123\n",
      "CG iteration: 124\n",
      "CG iteration: 125\n",
      "CG iteration: 126\n",
      "CG iteration: 127\n",
      "CG iteration: 128\n",
      "CG iteration: 129\n",
      "CG iteration: 130\n",
      "CG iteration: 131\n",
      "CG iteration: 132\n",
      "CG iteration: 133\n",
      "CG iteration: 134\n",
      "CG iteration: 135\n",
      "CG iteration: 136\n",
      "CG iteration: 137\n",
      "CG iteration: 138\n",
      "CG iteration: 139\n",
      "CG iteration: 140\n"
     ]
    }
   ],
   "source": [
    "def cg_callback(_):\n",
    "    cg_callback.count += 1\n",
    "    print(f'CG iteration: {cg_callback.count}')\n",
    "cg_callback.count = 0\n",
    "\n",
    "sp.sparse.linalg.cg(get_A(n=1000), np.ones((1001, 1)), tol=1e-4, callback=cg_callback);"
   ]
  },
  {
   "cell_type": "markdown",
   "metadata": {},
   "source": [
    "CG converged in 140 iterations - even faster than we expected."
   ]
  },
  {
   "cell_type": "code",
   "execution_count": null,
   "metadata": {},
   "outputs": [],
   "source": []
  },
  {
   "cell_type": "markdown",
   "metadata": {
    "id": "dh0nKsm46hpo"
   },
   "source": [
    "## Problem 2 (65 pts)\n",
    "### On the performance of conjugate gradient method for BTTB matrices.\n",
    "\n",
    "You are given 2D image (QR-code) and convolution operator $T$. The application of $T$ results in smoothing of the image. In exact arithmetic, the proposed $T$ is non-singular. However, it becomes rather ill-conditioned with increasing $N$ in finite precision arithmetic. In this task you need to study how the conjugate gradient method performs in this case."
   ]
  },
  {
   "cell_type": "markdown",
   "metadata": {
    "id": "3gi5DJJz6hps"
   },
   "source": [
    "The original passcode is given below:"
   ]
  },
  {
   "cell_type": "code",
   "execution_count": 220,
   "metadata": {
    "id": "mxPusfbx6hps",
    "outputId": "2fe5ac3f-c23e-4f3d-dc69-b211ec69506b"
   },
   "outputs": [
    {
     "data": {
      "text/plain": [
       "(-0.5, 329.5, 329.5, -0.5)"
      ]
     },
     "execution_count": 220,
     "metadata": {},
     "output_type": "execute_result"
    },
    {
     "data": {
      "image/png": "[encoded data removed]",
      "text/plain": [
       "<Figure size 432x288 with 1 Axes>"
      ]
     },
     "metadata": {
      "needs_background": "light"
     },
     "output_type": "display_data"
    }
   ],
   "source": [
    "import matplotlib.pyplot as plt\n",
    "x = plt.imread('qrcode.gif')[:,:,0]\n",
    "n = x.shape[0]\n",
    "plt.imshow(x, cmap=\"gray\")\n",
    "plt.axis(\"off\")"
   ]
  },
  {
   "cell_type": "markdown",
   "metadata": {
    "id": "uHzqVBAK6hpu"
   },
   "source": [
    "Blurring can be performed by convolving $n\\times n$ QR-code with the following filter:\n",
    "\n",
    "$$T_{i_1j_1,i_2j_2} = T_{i_1-j_1,i_2-j_2} = \\frac{\\alpha}{\\pi}e^{-\\alpha[(i_1-j_1)^2 + (i_2-j_2)^2]}, \\quad i_1,j_1,i_2,j_2 = 1 \\ldots n, \\quad 1 > \\alpha > 0.$$\n",
    "\n",
    "You know from lectures that this convolution can be viewed as a matrix-vector multiplication of some BTTB matrix $T$ of size $n^2 \\times n^2$."
   ]
  },
  {
   "cell_type": "markdown",
   "metadata": {
    "id": "nQSQVkG86hpu"
   },
   "source": [
    "## Task 1 (15 pts) \n",
    "\n",
    "- Write function `T_matvec()` that performs multiplication of $T$ by a given vector $x$ efficiently. Remember about FFT.\n",
    "- Use `scipy.sparse.linalg.LinearOperator` to create an object that has attribute `.dot()` (this object will be further used in the iterative process). Note that `.dot()` input and output must be 1D vectors, so do not forget to use reshape."
   ]
  },
  {
   "cell_type": "code",
   "execution_count": 298,
   "metadata": {},
   "outputs": [],
   "source": [
    "import scipy.linalg\n",
    "import scipy.sparse.linalg\n",
    "import numpy as np"
   ]
  },
  {
   "cell_type": "code",
   "execution_count": 299,
   "metadata": {
    "id": "SKiL6Iky6hpv"
   },
   "outputs": [],
   "source": [
    "def T_matvec(x, alpha):\n",
    "    n = round(len(x)**.5)\n",
    "    \n",
    "    ind_diff = np.concatenate((range(n), range(-n + 1, 0))).reshape((1, 2 * n - 1))\n",
    "    t = alpha / np.pi * np.exp(-alpha * (ind_diff**2 + ind_diff.T**2)).T\n",
    "    \n",
    "    x = np.reshape(x, (n, n))\n",
    "    x_ext = np.concatenate((x, np.zeros((n, n - 1))), axis=1)\n",
    "    x_ext = np.concatenate((x_ext, np.zeros((n - 1, 2 * n - 1))))\n",
    "    return np.fft.ifft2(np.fft.fft2(t) * np.fft.fft2(x_ext))[:n, :n].real.reshape((n**2,))\n",
    "\n",
    "alpha = .5\n",
    "T = scpl.LinearOperator((n**2, n**2), matvec = lambda x : T_matvec(x, alpha))"
   ]
  },
  {
   "cell_type": "code",
   "execution_count": null,
   "metadata": {},
   "outputs": [],
   "source": []
  },
  {
   "cell_type": "code",
   "execution_count": null,
   "metadata": {},
   "outputs": [],
   "source": []
  },
  {
   "cell_type": "markdown",
   "metadata": {
    "id": "Vpj3Llkc6hpv"
   },
   "source": [
    "**Remark.** The obtained matrix $T$ is positive definite (at least in the exact arithmetic), hence the conjugate gradient method can be applied to solve with $T$.\n",
    "\n",
    "**Bonus question: Prove the remark above.**"
   ]
  },
  {
   "cell_type": "markdown",
   "metadata": {
    "id": "fyoFYerG6hpw"
   },
   "source": [
    "## Task 2 (10 pts) \n",
    "- For $\\alpha \\in \\{ 0.1, 0.01,0.001\\}$ compute $y=Tx$ and deconvolve $x$ using `scipy.sparse.linalg.cg` with $tol \\in \\{10^{-3}, 10^{-4}, 10^{-5}, 10^{-6}, 10^{-7}\\}$. For each pair $\\alpha$, $tol$ write out `num_iters` and relative error $e = \\frac{\\|x - x^*\\|_2}{\\|x\\|_2}$ .\n",
    "- Comment on the results: \n",
    "\n",
    "    1) why the relative error does not converge to zero? \n",
    "    \n",
    "    2) why the relative error converges to different values for different $\\alpha$?"
   ]
  },
  {
   "cell_type": "code",
   "execution_count": 300,
   "metadata": {
    "id": "1ZziAoPv6hpw"
   },
   "outputs": [],
   "source": [
    "import scipy.sparse.linalg"
   ]
  },
  {
   "cell_type": "code",
   "execution_count": 231,
   "metadata": {},
   "outputs": [],
   "source": [
    "def count_iters(_):\n",
    "    count_iters.count += 1\n",
    "count_iters.count = 0"
   ]
  },
  {
   "cell_type": "code",
   "execution_count": 233,
   "metadata": {},
   "outputs": [],
   "source": [
    "alphas = 10**np.arange(-3., 0)[::-1]\n",
    "tols = 10**np.arange(-7., -2)[::-1]\n",
    "iters = np.zeros((len(alphas), len(tols)))\n",
    "errs = np.zeros((len(alphas), len(tols)))\n",
    "\n",
    "def count_iters(_):\n",
    "    count_iters.count += 1\n",
    "count_iters.count = 0\n",
    "\n",
    "x_vec = x.reshape((n**2,))\n",
    "\n",
    "for i in range(len(alphas)):\n",
    "    alpha = alphas[i]\n",
    "    for j in range(len(tols)):\n",
    "        tol = tols[j]\n",
    "        \n",
    "        T = sp.sparse.linalg.LinearOperator((n**2, n**2), matvec=lambda x:T_matvec(x,alpha))\n",
    "        y = T @ x_vec\n",
    "        count_iters.count = 0\n",
    "        x_deconvolved = sp.sparse.linalg.cg(T, y, tol=tol, callback=count_iters)[0]\n",
    "        errs[i, j] = np.linalg.norm(x_deconvolved - x_vec) / np.linalg.norm(x_vec)\n",
    "        iters[i, j] = count_iters.count\n",
    "        "
   ]
  },
  {
   "cell_type": "code",
   "execution_count": 234,
   "metadata": {},
   "outputs": [
    {
     "name": "stdout",
     "output_type": "stream",
     "text": [
      "tols = [1.e-03 1.e-04 1.e-05 1.e-06 1.e-07]\n",
      "alphas =\n",
      "[[0.1  ]\n",
      " [0.01 ]\n",
      " [0.001]]\n",
      "errs:\n",
      "[[0.12847145 0.10191431 0.09586764 0.07218324 0.06672478]\n",
      " [0.21519193 0.20193916 0.19717952 0.19488263 0.18962599]\n",
      " [0.4362718  0.4198482  0.40011396 0.3804841  0.37017793]]\n"
     ]
    }
   ],
   "source": [
    "print(f'tols = {tols}')\n",
    "print(f'alphas =\\n{alphas.reshape((3, 1))}')\n",
    "print('errs:')\n",
    "print(errs)"
   ]
  },
  {
   "cell_type": "code",
   "execution_count": 235,
   "metadata": {},
   "outputs": [
    {
     "name": "stdout",
     "output_type": "stream",
     "text": [
      "tols = [1.e-03 1.e-04 1.e-05 1.e-06 1.e-07]\n",
      "alphas =\n",
      "[[0.1  ]\n",
      " [0.01 ]\n",
      " [0.001]]\n",
      "iters:\n",
      "[[  11.   46.  136.  788. 2419.]\n",
      " [  18.   53.  168.  559. 2485.]\n",
      " [  13.   49.  158.  509. 1367.]]\n"
     ]
    }
   ],
   "source": [
    "print(f'tols = {tols}')\n",
    "print(f'alphas =\\n{alphas.reshape((3, 1))}')\n",
    "print('iters:')\n",
    "print(iters)"
   ]
  },
  {
   "cell_type": "markdown",
   "metadata": {},
   "source": [
    "1) why does the relative error not converge to zero?\n",
    "\n",
    "Because operator $T$ is ill-conditioned. In exact arithmetics CG would solve our problem for no more than $n^2$ steps but in reality we are dealing with finite precision which only represents $\\sim 16$ digits. So the round-off error of each operation is $\\sim 10^{-16}$. For ill-conditioned problems with huge condition number such error can be crucial. The error of numerical solution of a linear system is proportional to the condition number. So, if the condition number is huge, the error can be huge to. For the CG method $T$-orthogonality (where $T$ is our operator) of the generated vectors of Krylov subspace is important. So any error can spoil the orthogonality.\n",
    "\n",
    "2) why does the relative error converge to different values for different $\\alpha$?\n",
    "\n",
    "Because $\\alpha$ defines the matrix $T$ and hence its condition number. For different $\\alpha$ there is different threshold of error which can't be eliminated by the CG."
   ]
  },
  {
   "cell_type": "markdown",
   "metadata": {
    "id": "lJ4XOLfw6hpx"
   },
   "source": [
    "In all further tasks fix $\\alpha = 0.01$. Compute $y = Tx$, and add vector with Gaussian noise from $\\mathcal{N}(0, 1)$ to $y$ and get the final right-hand side $\\hat{y}$.\n",
    "\n",
    "## Task 3 (10 pts)\n",
    "- Try to deconvolve $\\hat{y}$ with matrix $T$ using $tol=10^{-5}$ in CG. Explain, why CG does not converge.\n",
    "- Suggest how CG can still be used to recover $x$. What are drawbacks of the suggested approach?"
   ]
  },
  {
   "cell_type": "code",
   "execution_count": 302,
   "metadata": {
    "id": "JzT0Wfzl6hpx"
   },
   "outputs": [
    {
     "data": {
      "image/png": "[encoded data removed]",
      "text/plain": [
       "<Figure size 432x288 with 1 Axes>"
      ]
     },
     "metadata": {
      "needs_background": "light"
     },
     "output_type": "display_data"
    }
   ],
   "source": [
    "alpha = .01\n",
    "T = sp.sparse.linalg.LinearOperator((n**2, n**2), matvec=lambda x:T_matvec(x,alpha))\n",
    "y = T @ x_vec\n",
    "plt.imshow(y.reshape(n, n), cmap='gray')\n",
    "plt.axis('off');"
   ]
  },
  {
   "cell_type": "code",
   "execution_count": 303,
   "metadata": {},
   "outputs": [
    {
     "data": {
      "image/png": "[encoded data removed]",
      "text/plain": [
       "<Figure size 432x288 with 1 Axes>"
      ]
     },
     "metadata": {
      "needs_background": "light"
     },
     "output_type": "display_data"
    }
   ],
   "source": [
    "y_hat = y + np.random.normal(loc=0, scale=1, size=y.shape)\n",
    "plt.imshow(y_hat.reshape(n, n), cmap='gray')\n",
    "plt.axis('off');"
   ]
  },
  {
   "cell_type": "code",
   "execution_count": 254,
   "metadata": {},
   "outputs": [],
   "source": [
    "def count_iters(x_cur):\n",
    "    count_iters.count += 1\n",
    "    print(f'iter: {count_iters.count}')\n",
    "    print(f'error: {np.linalg.norm(x_cur - x_vec) / np.linalg.norm(x_vec)}\\n\\n')\n",
    "count_iters.count = 0"
   ]
  },
  {
   "cell_type": "code",
   "execution_count": 258,
   "metadata": {},
   "outputs": [
    {
     "name": "stdout",
     "output_type": "stream",
     "text": [
      "iter: 1\n",
      "error: 0.4012462612866346\n",
      "\n",
      "\n",
      "iter: 2\n",
      "error: 0.33983272463948216\n",
      "\n",
      "\n",
      "iter: 3\n",
      "error: 0.30375812488226844\n",
      "\n",
      "\n",
      "iter: 4\n",
      "error: 0.28240821976461106\n",
      "\n",
      "\n",
      "iter: 5\n",
      "error: 0.26935475158228095\n",
      "\n",
      "\n",
      "iter: 6\n",
      "error: 0.2703451055621805\n",
      "\n",
      "\n",
      "iter: 7\n",
      "error: 0.2840887122646801\n",
      "\n",
      "\n",
      "iter: 8\n",
      "error: 0.3334914416237303\n",
      "\n",
      "\n",
      "iter: 9\n",
      "error: 0.4492578989004588\n",
      "\n",
      "\n",
      "iter: 10\n",
      "error: 0.6932209020900771\n",
      "\n",
      "\n",
      "iter: 11\n",
      "error: 1.145218937109556\n",
      "\n",
      "\n",
      "iter: 12\n",
      "error: 1.8097153625242426\n",
      "\n",
      "\n",
      "iter: 13\n",
      "error: 2.824342834392581\n",
      "\n",
      "\n",
      "iter: 14\n",
      "error: 4.319403008133811\n",
      "\n",
      "\n",
      "iter: 15\n",
      "error: 6.89343395322174\n",
      "\n",
      "\n",
      "iter: 16\n",
      "error: 10.223989966090354\n",
      "\n",
      "\n",
      "iter: 17\n",
      "error: 14.363717048926233\n",
      "\n",
      "\n",
      "iter: 18\n",
      "error: 20.832582292666686\n",
      "\n",
      "\n",
      "iter: 19\n",
      "error: 29.577443484735216\n",
      "\n",
      "\n",
      "iter: 20\n",
      "error: 40.21397494132521\n",
      "\n",
      "\n",
      "iter: 21\n",
      "error: 53.382014252521884\n",
      "\n",
      "\n",
      "iter: 22\n",
      "error: 68.78678448906531\n",
      "\n",
      "\n",
      "iter: 23\n",
      "error: 91.29031845284389\n",
      "\n",
      "\n",
      "iter: 24\n",
      "error: 115.31419602827395\n",
      "\n",
      "\n",
      "iter: 25\n",
      "error: 141.89530534411767\n",
      "\n",
      "\n",
      "iter: 26\n",
      "error: 173.57288678267798\n",
      "\n",
      "\n",
      "iter: 27\n",
      "error: 209.4379090875639\n",
      "\n",
      "\n",
      "iter: 28\n",
      "error: 247.96788184705855\n",
      "\n",
      "\n",
      "iter: 29\n",
      "error: 295.68477179244746\n",
      "\n",
      "\n",
      "iter: 30\n",
      "error: 342.8582734317462\n",
      "\n",
      "\n",
      "iter: 31\n",
      "error: 389.3951540318115\n",
      "\n",
      "\n",
      "iter: 32\n",
      "error: 435.7850160471278\n",
      "\n",
      "\n",
      "iter: 33\n",
      "error: 491.7955676223566\n",
      "\n",
      "\n",
      "iter: 34\n",
      "error: 552.4874733760535\n",
      "\n",
      "\n",
      "iter: 35\n",
      "error: 624.0079634399355\n",
      "\n",
      "\n",
      "iter: 36\n",
      "error: 691.6036266921099\n",
      "\n",
      "\n",
      "iter: 37\n",
      "error: 751.1261357718848\n",
      "\n",
      "\n",
      "iter: 38\n",
      "error: 822.5410019109569\n",
      "\n",
      "\n",
      "iter: 39\n",
      "error: 898.797223655432\n",
      "\n",
      "\n",
      "iter: 40\n",
      "error: 980.7749663892233\n",
      "\n",
      "\n",
      "iter: 41\n",
      "error: 1068.3676875673873\n",
      "\n",
      "\n",
      "iter: 42\n",
      "error: 1134.8875728163887\n",
      "\n",
      "\n",
      "iter: 43\n",
      "error: 1201.752805014714\n",
      "\n",
      "\n",
      "iter: 44\n",
      "error: 1280.5472676042443\n",
      "\n",
      "\n",
      "iter: 45\n",
      "error: 1357.62505147968\n",
      "\n",
      "\n",
      "iter: 46\n",
      "error: 1440.4333433174756\n",
      "\n",
      "\n",
      "iter: 47\n",
      "error: 1525.921317100535\n",
      "\n",
      "\n",
      "iter: 48\n",
      "error: 1604.7682899129316\n",
      "\n",
      "\n",
      "iter: 49\n",
      "error: 1696.160877022464\n",
      "\n",
      "\n",
      "iter: 50\n",
      "error: 1785.8736458587687\n",
      "\n",
      "\n",
      "iter: 51\n",
      "error: 1875.6967188815875\n",
      "\n",
      "\n",
      "iter: 52\n",
      "error: 1979.4118133794234\n",
      "\n",
      "\n",
      "iter: 53\n",
      "error: 2095.6637968119708\n",
      "\n",
      "\n",
      "iter: 54\n",
      "error: 2192.4385981141377\n",
      "\n",
      "\n",
      "iter: 55\n",
      "error: 2303.322382109179\n",
      "\n",
      "\n",
      "iter: 56\n",
      "error: 2424.847100734033\n",
      "\n",
      "\n",
      "iter: 57\n",
      "error: 2537.8230016172743\n",
      "\n",
      "\n",
      "iter: 58\n",
      "error: 2657.156926826634\n",
      "\n",
      "\n",
      "iter: 59\n",
      "error: 2773.3998229706986\n",
      "\n",
      "\n",
      "iter: 60\n",
      "error: 2895.512262322005\n",
      "\n",
      "\n",
      "iter: 61\n",
      "error: 3007.430567913004\n",
      "\n",
      "\n",
      "iter: 62\n",
      "error: 3126.9569598014486\n",
      "\n",
      "\n",
      "iter: 63\n",
      "error: 3256.7153853144346\n",
      "\n",
      "\n",
      "iter: 64\n",
      "error: 3399.2021645338214\n",
      "\n",
      "\n",
      "iter: 65\n",
      "error: 3538.398456631759\n",
      "\n",
      "\n",
      "iter: 66\n",
      "error: 3685.1626427536685\n",
      "\n",
      "\n",
      "iter: 67\n",
      "error: 3837.7828229800048\n",
      "\n",
      "\n",
      "iter: 68\n",
      "error: 3987.6050755144443\n",
      "\n",
      "\n",
      "iter: 69\n",
      "error: 4143.759593835539\n",
      "\n",
      "\n",
      "iter: 70\n",
      "error: 4296.861832255112\n",
      "\n",
      "\n",
      "iter: 71\n",
      "error: 4441.429467691278\n",
      "\n",
      "\n",
      "iter: 72\n",
      "error: 4590.431027169041\n",
      "\n",
      "\n",
      "iter: 73\n",
      "error: 4750.51514281804\n",
      "\n",
      "\n",
      "iter: 74\n",
      "error: 4913.476583479322\n",
      "\n",
      "\n",
      "iter: 75\n",
      "error: 5083.09942060867\n",
      "\n",
      "\n",
      "iter: 76\n",
      "error: 5240.1539768233\n",
      "\n",
      "\n",
      "iter: 77\n",
      "error: 5406.012979758184\n",
      "\n",
      "\n",
      "iter: 78\n",
      "error: 5582.144553858589\n",
      "\n",
      "\n",
      "iter: 79\n",
      "error: 5771.126836351251\n",
      "\n",
      "\n",
      "iter: 80\n",
      "error: 5964.357903566134\n",
      "\n",
      "\n",
      "iter: 81\n",
      "error: 6164.361573055157\n",
      "\n",
      "\n",
      "iter: 82\n",
      "error: 6352.4707824041725\n",
      "\n",
      "\n",
      "iter: 83\n",
      "error: 6524.988535485826\n",
      "\n",
      "\n",
      "iter: 84\n",
      "error: 6714.639775935522\n",
      "\n",
      "\n",
      "iter: 85\n",
      "error: 6900.991652552968\n",
      "\n",
      "\n",
      "iter: 86\n",
      "error: 7091.053665164471\n",
      "\n",
      "\n",
      "iter: 87\n",
      "error: 7266.319361973468\n",
      "\n",
      "\n",
      "iter: 88\n",
      "error: 7438.568372007374\n",
      "\n",
      "\n",
      "iter: 89\n",
      "error: 7606.98894672351\n",
      "\n",
      "\n",
      "iter: 90\n",
      "error: 7802.194678203755\n",
      "\n",
      "\n",
      "iter: 91\n",
      "error: 8008.378577040877\n",
      "\n",
      "\n",
      "iter: 92\n",
      "error: 8223.623848084162\n",
      "\n",
      "\n",
      "iter: 93\n",
      "error: 8463.265205955971\n",
      "\n",
      "\n",
      "iter: 94\n",
      "error: 8723.910730809092\n",
      "\n",
      "\n",
      "iter: 95\n",
      "error: 8961.618058792597\n",
      "\n",
      "\n",
      "iter: 96\n",
      "error: 9178.090777858473\n",
      "\n",
      "\n",
      "iter: 97\n",
      "error: 9406.82284635861\n",
      "\n",
      "\n",
      "iter: 98\n",
      "error: 9640.038602642671\n",
      "\n",
      "\n",
      "iter: 99\n",
      "error: 9873.424079603308\n",
      "\n",
      "\n",
      "iter: 100\n",
      "error: 10104.823589787047\n",
      "\n",
      "\n",
      "iter: 101\n",
      "error: 10351.395679391691\n",
      "\n",
      "\n",
      "iter: 102\n",
      "error: 10556.859902377448\n",
      "\n",
      "\n",
      "iter: 103\n",
      "error: 10778.569506965456\n",
      "\n",
      "\n",
      "iter: 104\n",
      "error: 11012.462512435053\n",
      "\n",
      "\n",
      "iter: 105\n",
      "error: 11214.124206979164\n",
      "\n",
      "\n",
      "iter: 106\n",
      "error: 11452.90339864119\n",
      "\n",
      "\n",
      "iter: 107\n",
      "error: 11723.19077427698\n",
      "\n",
      "\n",
      "iter: 108\n",
      "error: 11971.815779883547\n",
      "\n",
      "\n",
      "iter: 109\n",
      "error: 12235.682101089022\n",
      "\n",
      "\n",
      "iter: 110\n",
      "error: 12529.654208713117\n",
      "\n",
      "\n",
      "iter: 111\n",
      "error: 12821.121437125028\n",
      "\n",
      "\n",
      "iter: 112\n",
      "error: 13121.628683218874\n",
      "\n",
      "\n",
      "iter: 113\n",
      "error: 13393.832976139614\n",
      "\n",
      "\n",
      "iter: 114\n",
      "error: 13653.750630586812\n",
      "\n",
      "\n",
      "iter: 115\n",
      "error: 13912.24232254916\n",
      "\n",
      "\n",
      "iter: 116\n",
      "error: 14173.308176421466\n",
      "\n",
      "\n",
      "iter: 117\n",
      "error: 14451.112594062459\n",
      "\n",
      "\n",
      "iter: 118\n",
      "error: 14765.644805325419\n",
      "\n",
      "\n",
      "iter: 119\n",
      "error: 15107.295937606594\n",
      "\n",
      "\n",
      "iter: 120\n",
      "error: 15402.342830359574\n",
      "\n",
      "\n",
      "iter: 121\n",
      "error: 15710.57829622504\n",
      "\n",
      "\n",
      "iter: 122\n",
      "error: 15986.526479790868\n",
      "\n",
      "\n",
      "iter: 123\n",
      "error: 16257.712111669318\n",
      "\n",
      "\n",
      "iter: 124\n",
      "error: 16508.412667666526\n",
      "\n",
      "\n",
      "iter: 125\n",
      "error: 16830.58500297317\n",
      "\n",
      "\n",
      "iter: 126\n",
      "error: 17113.705206778326\n",
      "\n",
      "\n",
      "iter: 127\n",
      "error: 17400.036804657\n",
      "\n",
      "\n",
      "iter: 128\n",
      "error: 17716.06294286135\n",
      "\n",
      "\n",
      "iter: 129\n",
      "error: 18050.21279211562\n",
      "\n",
      "\n",
      "iter: 130\n",
      "error: 18349.205400252562\n",
      "\n",
      "\n",
      "iter: 131\n",
      "error: 18682.1894635828\n",
      "\n",
      "\n",
      "iter: 132\n",
      "error: 19006.617941676348\n",
      "\n",
      "\n",
      "iter: 133\n",
      "error: 19297.40245644693\n",
      "\n",
      "\n",
      "iter: 134\n",
      "error: 19580.782731386495\n",
      "\n",
      "\n",
      "iter: 135\n",
      "error: 19871.615211960085\n",
      "\n",
      "\n",
      "iter: 136\n",
      "error: 20177.65461494555\n",
      "\n",
      "\n",
      "iter: 137\n",
      "error: 20484.83370642987\n",
      "\n",
      "\n",
      "iter: 138\n",
      "error: 20805.27705915356\n",
      "\n",
      "\n",
      "iter: 139\n",
      "error: 21131.360087192978\n",
      "\n",
      "\n",
      "iter: 140\n",
      "error: 21511.468827039567\n",
      "\n",
      "\n",
      "iter: 141\n",
      "error: 21830.446336888825\n",
      "\n",
      "\n",
      "iter: 142\n",
      "error: 22144.71995299987\n",
      "\n",
      "\n",
      "iter: 143\n",
      "error: 22431.604612014635\n",
      "\n",
      "\n",
      "iter: 144\n",
      "error: 22737.230478357942\n",
      "\n",
      "\n",
      "iter: 145\n",
      "error: 23126.737931593783\n",
      "\n",
      "\n",
      "iter: 146\n",
      "error: 23543.108162868342\n",
      "\n",
      "\n",
      "iter: 147\n",
      "error: 23903.424964119302\n",
      "\n",
      "\n",
      "iter: 148\n",
      "error: 24225.74528314145\n",
      "\n",
      "\n",
      "iter: 149\n",
      "error: 24543.367083823145\n",
      "\n",
      "\n",
      "iter: 150\n",
      "error: 24922.50983810145\n",
      "\n",
      "\n",
      "iter: 151\n",
      "error: 25259.005836920947\n",
      "\n",
      "\n",
      "iter: 152\n",
      "error: 25559.732149938493\n",
      "\n",
      "\n",
      "iter: 153\n",
      "error: 25901.792603775142\n",
      "\n",
      "\n",
      "iter: 154\n",
      "error: 26264.758643623354\n",
      "\n",
      "\n",
      "iter: 155\n",
      "error: 26651.26740175922\n",
      "\n",
      "\n",
      "iter: 156\n",
      "error: 27039.431427826083\n",
      "\n",
      "\n",
      "iter: 157\n",
      "error: 27445.112861233167\n",
      "\n",
      "\n",
      "iter: 158\n",
      "error: 27811.27772136612\n",
      "\n",
      "\n",
      "iter: 159\n",
      "error: 28249.294352681005\n",
      "\n",
      "\n",
      "iter: 160\n",
      "error: 28650.33773765078\n",
      "\n",
      "\n",
      "iter: 161\n",
      "error: 29000.044867847773\n",
      "\n",
      "\n",
      "iter: 162\n",
      "error: 29418.906784565417\n",
      "\n",
      "\n",
      "iter: 163\n",
      "error: 29784.256659802708\n",
      "\n",
      "\n",
      "iter: 164\n",
      "error: 30113.137737211386\n",
      "\n",
      "\n",
      "iter: 165\n",
      "error: 30465.711133919434\n",
      "\n",
      "\n",
      "iter: 166\n",
      "error: 30866.422319120025\n",
      "\n",
      "\n",
      "iter: 167\n",
      "error: 31271.69175202039\n",
      "\n",
      "\n",
      "iter: 168\n",
      "error: 31696.901058764288\n",
      "\n",
      "\n",
      "iter: 169\n",
      "error: 32121.888961352302\n",
      "\n",
      "\n",
      "iter: 170\n",
      "error: 32518.59881491575\n",
      "\n",
      "\n",
      "iter: 171\n",
      "error: 33002.380503770066\n",
      "\n",
      "\n",
      "iter: 172\n",
      "error: 33418.52577725943\n",
      "\n",
      "\n",
      "iter: 173\n",
      "error: 33892.859532764276\n",
      "\n",
      "\n",
      "iter: 174\n",
      "error: 34394.611081001836\n",
      "\n",
      "\n",
      "iter: 175\n",
      "error: 34929.634890798174\n",
      "\n",
      "\n",
      "iter: 176\n",
      "error: 35384.672254808516\n",
      "\n",
      "\n",
      "iter: 177\n",
      "error: 35857.47723784231\n",
      "\n",
      "\n",
      "iter: 178\n",
      "error: 36295.402253096094\n",
      "\n",
      "\n",
      "iter: 179\n",
      "error: 36789.79828905522\n",
      "\n",
      "\n",
      "iter: 180\n",
      "error: 37273.4607411044\n",
      "\n",
      "\n",
      "iter: 181\n",
      "error: 37746.33798256708\n",
      "\n",
      "\n",
      "iter: 182\n",
      "error: 38192.47692061801\n",
      "\n",
      "\n",
      "iter: 183\n",
      "error: 38606.72486058685\n",
      "\n",
      "\n",
      "iter: 184\n",
      "error: 39048.93375687959\n",
      "\n",
      "\n",
      "iter: 185\n",
      "error: 39500.6270234345\n",
      "\n",
      "\n",
      "iter: 186\n",
      "error: 39976.47993138421\n",
      "\n",
      "\n",
      "iter: 187\n",
      "error: 40461.61648319225\n",
      "\n",
      "\n",
      "iter: 188\n",
      "error: 40911.95215605987\n",
      "\n",
      "\n",
      "iter: 189\n",
      "error: 41356.557093255884\n",
      "\n",
      "\n",
      "iter: 190\n",
      "error: 41811.126349599144\n",
      "\n",
      "\n",
      "iter: 191\n",
      "error: 42254.680305601614\n",
      "\n",
      "\n",
      "iter: 192\n",
      "error: 42782.74434669677\n",
      "\n",
      "\n",
      "iter: 193\n",
      "error: 43375.92747821457\n",
      "\n",
      "\n",
      "iter: 194\n",
      "error: 43875.22099823016\n",
      "\n",
      "\n",
      "iter: 195\n",
      "error: 44340.800779066565\n",
      "\n",
      "\n",
      "iter: 196\n",
      "error: 44817.67676425467\n",
      "\n",
      "\n",
      "iter: 197\n",
      "error: 45280.399593088056\n",
      "\n",
      "\n",
      "iter: 198\n",
      "error: 45724.779993764096\n",
      "\n",
      "\n",
      "iter: 199\n",
      "error: 46279.169328318196\n",
      "\n",
      "\n",
      "iter: 200\n",
      "error: 46776.31238171796\n",
      "\n",
      "\n",
      "iter: 201\n",
      "error: 47260.50704151352\n",
      "\n",
      "\n",
      "iter: 202\n",
      "error: 47702.03653986884\n",
      "\n",
      "\n",
      "iter: 203\n",
      "error: 48149.166432844744\n",
      "\n",
      "\n",
      "iter: 204\n",
      "error: 48678.850849969036\n",
      "\n",
      "\n",
      "iter: 205\n",
      "error: 49256.440693750126\n",
      "\n",
      "\n",
      "iter: 206\n",
      "error: 49865.74222014652\n",
      "\n",
      "\n",
      "iter: 207\n",
      "error: 50452.13125116973\n",
      "\n",
      "\n",
      "iter: 208\n",
      "error: 50977.76467235401\n",
      "\n",
      "\n",
      "iter: 209\n",
      "error: 51634.94570299636\n",
      "\n",
      "\n",
      "iter: 210\n",
      "error: 52280.83460275306\n",
      "\n",
      "\n",
      "iter: 211\n",
      "error: 52773.3001305191\n",
      "\n",
      "\n",
      "iter: 212\n",
      "error: 53310.674084748396\n",
      "\n",
      "\n",
      "iter: 213\n",
      "error: 53855.44394554719\n",
      "\n",
      "\n",
      "iter: 214\n",
      "error: 54537.29964160309\n",
      "\n",
      "\n",
      "iter: 215\n",
      "error: 55092.871875345794\n",
      "\n",
      "\n",
      "iter: 216\n",
      "error: 55594.265322875886\n",
      "\n",
      "\n",
      "iter: 217\n",
      "error: 56093.155254720485\n",
      "\n",
      "\n",
      "iter: 218\n",
      "error: 56698.16302191233\n",
      "\n",
      "\n",
      "iter: 219\n",
      "error: 57332.34198458268\n",
      "\n",
      "\n",
      "iter: 220\n",
      "error: 57940.3361375704\n",
      "\n",
      "\n",
      "iter: 221\n",
      "error: 58587.4536593572\n",
      "\n",
      "\n",
      "iter: 222\n",
      "error: 59085.94181028279\n",
      "\n",
      "\n"
     ]
    },
    {
     "name": "stdout",
     "output_type": "stream",
     "text": [
      "iter: 223\n",
      "error: 59701.39846140418\n",
      "\n",
      "\n",
      "iter: 224\n",
      "error: 60411.602521885456\n",
      "\n",
      "\n",
      "iter: 225\n",
      "error: 61031.0687861553\n",
      "\n",
      "\n",
      "iter: 226\n",
      "error: 61652.75757859937\n",
      "\n",
      "\n",
      "iter: 227\n",
      "error: 62206.55570689277\n",
      "\n",
      "\n",
      "iter: 228\n",
      "error: 62795.32413418952\n",
      "\n",
      "\n",
      "iter: 229\n",
      "error: 63437.79608918275\n",
      "\n",
      "\n",
      "iter: 230\n",
      "error: 64089.71238949475\n",
      "\n",
      "\n",
      "iter: 231\n",
      "error: 64676.33000265182\n",
      "\n",
      "\n",
      "iter: 232\n",
      "error: 65296.09877474134\n",
      "\n",
      "\n",
      "iter: 233\n",
      "error: 65950.26749693906\n",
      "\n",
      "\n",
      "iter: 234\n",
      "error: 66760.15358328322\n",
      "\n",
      "\n",
      "iter: 235\n",
      "error: 67480.7950651593\n",
      "\n",
      "\n",
      "iter: 236\n",
      "error: 68142.85099493465\n",
      "\n",
      "\n",
      "iter: 237\n",
      "error: 68766.16279482956\n",
      "\n",
      "\n",
      "iter: 238\n",
      "error: 69439.86937803883\n",
      "\n",
      "\n",
      "iter: 239\n",
      "error: 70093.49311166511\n",
      "\n",
      "\n",
      "iter: 240\n",
      "error: 70810.14527538983\n",
      "\n",
      "\n",
      "iter: 241\n",
      "error: 71475.89965393078\n",
      "\n",
      "\n",
      "iter: 242\n",
      "error: 72119.5959860027\n",
      "\n",
      "\n",
      "iter: 243\n",
      "error: 72690.71387458598\n",
      "\n",
      "\n",
      "iter: 244\n",
      "error: 73393.30153642152\n",
      "\n",
      "\n",
      "iter: 245\n",
      "error: 74102.30539453427\n",
      "\n",
      "\n",
      "iter: 246\n",
      "error: 74813.02720436083\n",
      "\n",
      "\n",
      "iter: 247\n",
      "error: 75400.7299492376\n",
      "\n",
      "\n",
      "iter: 248\n",
      "error: 76108.62295994737\n",
      "\n",
      "\n",
      "iter: 249\n",
      "error: 76908.73556043215\n",
      "\n",
      "\n",
      "iter: 250\n",
      "error: 77704.71256327518\n",
      "\n",
      "\n",
      "iter: 251\n",
      "error: 78443.3541646893\n",
      "\n",
      "\n",
      "iter: 252\n",
      "error: 79104.86177005326\n",
      "\n",
      "\n",
      "iter: 253\n",
      "error: 79987.40306670143\n",
      "\n",
      "\n",
      "iter: 254\n",
      "error: 80730.77769134517\n",
      "\n",
      "\n",
      "iter: 255\n",
      "error: 81369.78668058671\n",
      "\n",
      "\n",
      "iter: 256\n",
      "error: 82081.55142711569\n",
      "\n",
      "\n",
      "iter: 257\n",
      "error: 82764.77392027676\n",
      "\n",
      "\n",
      "iter: 258\n",
      "error: 83416.20260035027\n",
      "\n",
      "\n",
      "iter: 259\n",
      "error: 84068.65304793118\n",
      "\n",
      "\n",
      "iter: 260\n",
      "error: 84930.74086529472\n",
      "\n",
      "\n",
      "iter: 261\n",
      "error: 85832.69690124592\n",
      "\n",
      "\n",
      "iter: 262\n",
      "error: 86681.17093268537\n",
      "\n",
      "\n",
      "iter: 263\n",
      "error: 87343.98640070712\n",
      "\n",
      "\n",
      "iter: 264\n",
      "error: 87971.65846175703\n",
      "\n",
      "\n",
      "iter: 265\n",
      "error: 88676.99562015508\n",
      "\n",
      "\n",
      "iter: 266\n",
      "error: 89335.19267329946\n",
      "\n",
      "\n",
      "iter: 267\n",
      "error: 90093.15928971095\n",
      "\n",
      "\n",
      "iter: 268\n",
      "error: 90831.64584675201\n",
      "\n",
      "\n",
      "iter: 269\n",
      "error: 91525.85788743712\n",
      "\n",
      "\n",
      "iter: 270\n",
      "error: 92321.42680959226\n",
      "\n",
      "\n",
      "iter: 271\n",
      "error: 93062.06427718088\n",
      "\n",
      "\n",
      "iter: 272\n",
      "error: 93707.00508587057\n",
      "\n",
      "\n",
      "iter: 273\n",
      "error: 94493.96854371844\n",
      "\n",
      "\n",
      "iter: 274\n",
      "error: 95315.60792408367\n",
      "\n",
      "\n",
      "iter: 275\n",
      "error: 96046.80555007189\n",
      "\n",
      "\n",
      "iter: 276\n",
      "error: 96760.24971208978\n",
      "\n",
      "\n",
      "iter: 277\n",
      "error: 97452.6863774789\n",
      "\n",
      "\n",
      "iter: 278\n",
      "error: 98196.81107613415\n",
      "\n",
      "\n",
      "iter: 279\n",
      "error: 98916.08036640153\n",
      "\n",
      "\n",
      "iter: 280\n",
      "error: 99592.39946789651\n",
      "\n",
      "\n",
      "iter: 281\n",
      "error: 100435.51491582152\n",
      "\n",
      "\n",
      "iter: 282\n",
      "error: 101446.41915972636\n",
      "\n",
      "\n",
      "iter: 283\n",
      "error: 102304.51312365379\n",
      "\n",
      "\n",
      "iter: 284\n",
      "error: 103027.21467902983\n",
      "\n",
      "\n",
      "iter: 285\n",
      "error: 103970.73155913068\n",
      "\n",
      "\n",
      "iter: 286\n",
      "error: 104827.65549413892\n",
      "\n",
      "\n",
      "iter: 287\n",
      "error: 105570.99904993265\n",
      "\n",
      "\n",
      "iter: 288\n",
      "error: 106451.55716572721\n",
      "\n",
      "\n",
      "iter: 289\n",
      "error: 107230.99657708989\n",
      "\n",
      "\n",
      "iter: 290\n",
      "error: 108005.77323015936\n",
      "\n",
      "\n",
      "iter: 291\n",
      "error: 108872.70796054257\n",
      "\n",
      "\n",
      "iter: 292\n",
      "error: 109742.70295034214\n",
      "\n",
      "\n",
      "iter: 293\n",
      "error: 110588.96669545567\n",
      "\n",
      "\n",
      "iter: 294\n",
      "error: 111185.78096872535\n",
      "\n",
      "\n",
      "iter: 295\n",
      "error: 111940.38222282188\n",
      "\n",
      "\n",
      "iter: 296\n",
      "error: 112747.54222757592\n",
      "\n",
      "\n",
      "iter: 297\n",
      "error: 113449.29641825712\n",
      "\n",
      "\n",
      "iter: 298\n",
      "error: 114196.90915805743\n",
      "\n",
      "\n",
      "iter: 299\n",
      "error: 115072.92925327372\n",
      "\n",
      "\n",
      "iter: 300\n",
      "error: 115913.17386009789\n",
      "\n",
      "\n"
     ]
    }
   ],
   "source": [
    "count_iters.count = 0\n",
    "x_deconvolved = sp.sparse.linalg.cg(T, y_hat, tol=1e-5, maxiter=300, callback=count_iters)"
   ]
  },
  {
   "cell_type": "markdown",
   "metadata": {},
   "source": [
    "After 10-th iteration the error starts to grow. CG does not converge in our case for noized $\\hat{y}$. In **task 2** we already were receiving bad results but the only disturbance there were small numerical errors. In this case there some more significant errors introduced to the problem, like Gaussian noize. So, deconvolution does not converge."
   ]
  },
  {
   "cell_type": "markdown",
   "metadata": {},
   "source": [
    "In order to use CG, we have to apply Tikhonov regularization which is a common tool for dealing with ill-conditioned problems. It reduces the condition number but it also affects the solution, so we will no longer be able to obtain the exact solution, we only will get the answer which is **close** to the solution in the sense of some norm.\n",
    "\n",
    "We also can try to use preconditioners, for example a diagonal preconditioner given that $T$ is diagonally dominant."
   ]
  },
  {
   "cell_type": "markdown",
   "metadata": {
    "id": "ez3m0Y-n6hpy"
   },
   "source": [
    "## Task 4 (10 pts)\n",
    "\n",
    "- Implement Tikhonov regularization, i.e. deconvolve $\\hat{y}$ with the perturbed matrix $T_{\\lambda} = T + \\lambda^2I$ instead of $T$. Modify `T_matvec()` according to the template below.\n",
    "- Perform computations for all $\\lambda \\in \\{10, 1, 0.1\\}$ and $tol \\in \\{10^{-3}, 10^{-4}, 10^{-5},10^{-6}, 10^{-7} \\}$. For each pair $(\\lambda, tol)$ write out `num_iters` and relative error $e = \\frac{\\|x - x^*\\|_2}{\\|x\\|_2}$. Comment on the results: \n",
    "    - Compare robustness of the convergence with task 2. What the observed results indicate?"
   ]
  },
  {
   "cell_type": "code",
   "execution_count": 277,
   "metadata": {
    "id": "IIs9QI7R6hpy"
   },
   "outputs": [],
   "source": [
    "def T_lmbda_matvec(x, alpha, lmbda):\n",
    "    # Using distributivity property of matrix-by-vector multiplication.\n",
    "    return T_matvec(x, alpha) + lmbda**2 * x"
   ]
  },
  {
   "cell_type": "code",
   "execution_count": 278,
   "metadata": {},
   "outputs": [],
   "source": [
    "lambdas = 10**np.arange(-1, 2.)[::-1]\n",
    "tols = 10**np.arange(-7, -2.)[::-1]\n",
    "\n",
    "def count_iters(_):\n",
    "    count_iters.count += 1\n",
    "count_iters.count = 0\n",
    "\n",
    "for i, lmbda in enumerate(lambdas):\n",
    "    for j, tol in enumerate(tols):\n",
    "        Tl = sp.sparse.linalg.LinearOperator((n**2, n**2), matvec = lambda x:T_lmbda_matvec(x, alpha, lmbda))\n",
    "        y = Tl @ x_vec\n",
    "        count_iters.count = 0\n",
    "        x_deconvolved = sp.sparse.linalg.cg(Tl, y, tol=tol, callback=count_iters)[0]\n",
    "        errs[i, j] = np.linalg.norm(x_deconvolved - x_vec) / np.linalg.norm(x_vec)\n",
    "        iters[i, j] = count_iters.count\n",
    "        "
   ]
  },
  {
   "cell_type": "code",
   "execution_count": 282,
   "metadata": {},
   "outputs": [
    {
     "name": "stdout",
     "output_type": "stream",
     "text": [
      "tols = [1.e-03 1.e-04 1.e-05 1.e-06 1.e-07]\n",
      "lambdas =\n",
      "[[10. ]\n",
      " [ 1. ]\n",
      " [ 0.1]]\n",
      "errs:\n",
      "[[6.38329705e-06 6.38329705e-06 6.38329705e-06 1.79674508e-08\n",
      "  1.79674508e-08]\n",
      " [8.69534952e-04 2.62334503e-05 4.16227631e-06 7.45201206e-07\n",
      "  1.24668992e-07]\n",
      " [1.74203456e-02 1.68384643e-03 1.61690822e-04 1.69825727e-05\n",
      "  1.80017331e-06]]\n"
     ]
    }
   ],
   "source": [
    "print(f'tols = {tols}')\n",
    "print(f'lambdas =\\n{lambdas.reshape((3, 1))}')\n",
    "print('errs:')\n",
    "print(errs)"
   ]
  },
  {
   "cell_type": "code",
   "execution_count": 283,
   "metadata": {},
   "outputs": [
    {
     "name": "stdout",
     "output_type": "stream",
     "text": [
      "tols = [1.e-03 1.e-04 1.e-05 1.e-06 1.e-07]\n",
      "lambdas =\n",
      "[[10. ]\n",
      " [ 1. ]\n",
      " [ 0.1]]\n",
      "iters:\n",
      "[[ 2.  2.  2.  3.  3.]\n",
      " [ 4.  6.  7.  8.  9.]\n",
      " [19. 30. 41. 52. 63.]]\n"
     ]
    }
   ],
   "source": [
    "print(f'tols = {tols}')\n",
    "print(f'lambdas =\\n{lambdas.reshape((3, 1))}')\n",
    "print('iters:')\n",
    "print(iters)"
   ]
  },
  {
   "cell_type": "markdown",
   "metadata": {},
   "source": [
    "We can clearly see the number of iterations to converge has decreased compared to the **task 2** case. CG converges faster and with less error because adding parameter $\\lambda$ to the main diagonal of $T$ improved its condition number and hence the speed of convergence. It was shown (https://en.wikipedia.org/wiki/Tikhonov_regularization) that adding a positive number to the main diagonal of the matrix improves its condition number. And that's exactly what we observe.\n",
    "\n",
    "We can also see the number of iterations is larger for less value of $\\lambda$ because the change to the matrix in that case is not really big."
   ]
  },
  {
   "cell_type": "code",
   "execution_count": null,
   "metadata": {},
   "outputs": [],
   "source": []
  },
  {
   "cell_type": "code",
   "execution_count": null,
   "metadata": {},
   "outputs": [],
   "source": []
  },
  {
   "cell_type": "markdown",
   "metadata": {
    "id": "ut0QG1AW6hpy"
   },
   "source": [
    "## Task 5 (20 pts)\n",
    "\n",
    "- Implement BCCB preconditioner for $T_{\\lambda}$ based on Strang preconditioner for Toeplitz matrix (hint: build circulants using first columns of Toeplitz matrices on both levels). You know from lectures that circulants can be explicitly inverted using convolution theorem. Implement the corresponding matvec according to the template provided below.\n",
    "- Check speedup in iterations and runtime that can be gained from the preconditioning for $\\alpha = 0.01$, $\\lambda = 1$ compared with Task 4. Explain results."
   ]
  },
  {
   "cell_type": "code",
   "execution_count": 288,
   "metadata": {},
   "outputs": [],
   "source": [
    "def first_col(x, alpha, lmbda):\n",
    "    n = round(len(x)**.5)\n",
    "    ind = np.arange(n).reshape((1, n))\n",
    "    t = alpha / np.pi * np.exp(-alpha * (ind**2 + ind.T**2)).T\n",
    "    t[0, 0] += lmbda**2\n",
    "    return t.reshape((n**2,))"
   ]
  },
  {
   "cell_type": "code",
   "execution_count": 306,
   "metadata": {
    "id": "DiJcm6XQ6hpz"
   },
   "outputs": [],
   "source": [
    "def C_inv_matvec(x, alpha, lmbda):\n",
    "    c = first_col(x, alpha, lmbda)\n",
    "    return np.fft.ifft(1 / np.fft.fft(c) * np.fft.fft(x)).real.reshape((n**2,))"
   ]
  },
  {
   "cell_type": "code",
   "execution_count": 349,
   "metadata": {},
   "outputs": [],
   "source": [
    "lmbda = 1.\n",
    "alpha = .01\n",
    "# mv = lambda x: C_inv_matvec(T_lmbda_matvec(x, alpha, lmbda), alpha, lmbda)\n",
    "mv = lambda x: C_inv_matvec(x, alpha, lmbda)\n",
    "C = sp.sparse.linalg.LinearOperator((n**2, n**2), matvec=mv)\n",
    "T = sp.sparse.linalg.LinearOperator((n**2, n**2), matvec=lambda x:T_lmbda_matvec(x,alpha,lmbda))"
   ]
  },
  {
   "cell_type": "code",
   "execution_count": 350,
   "metadata": {},
   "outputs": [],
   "source": [
    "x_precond = sp.sparse.linalg.cg(C, y_hat, tol=1e-4)[0]"
   ]
  },
  {
   "cell_type": "code",
   "execution_count": 352,
   "metadata": {},
   "outputs": [],
   "source": [
    "x_lmb = sp.sparse.linalg.cg(T, y_hat, tol=1e-4)[0]"
   ]
  },
  {
   "cell_type": "code",
   "execution_count": 353,
   "metadata": {},
   "outputs": [
    {
     "data": {
      "image/png": "[encoded data removed]",
      "text/plain": [
       "<Figure size 432x288 with 1 Axes>"
      ]
     },
     "metadata": {
      "needs_background": "light"
     },
     "output_type": "display_data"
    }
   ],
   "source": [
    "plt.imshow(x_precond.reshape(n, n), cmap='gray')\n",
    "plt.title('Deconvolved with preconditioner')\n",
    "plt.axis('off');"
   ]
  },
  {
   "cell_type": "code",
   "execution_count": 354,
   "metadata": {},
   "outputs": [
    {
     "data": {
      "image/png": "[encoded data removed]",
      "text/plain": [
       "<Figure size 432x288 with 1 Axes>"
      ]
     },
     "metadata": {
      "needs_background": "light"
     },
     "output_type": "display_data"
    }
   ],
   "source": [
    "plt.imshow(x_lmb.reshape(n, n), cmap='gray')\n",
    "plt.title('Deconvolved with regularization')\n",
    "plt.axis('off');"
   ]
  },
  {
   "cell_type": "code",
   "execution_count": 355,
   "metadata": {},
   "outputs": [
    {
     "data": {
      "text/plain": [
       "0.44000693925648376"
      ]
     },
     "execution_count": 355,
     "metadata": {},
     "output_type": "execute_result"
    }
   ],
   "source": [
    "np.linalg.norm(x_precond - x_vec) / np.linalg.norm(x_vec)"
   ]
  },
  {
   "cell_type": "code",
   "execution_count": 356,
   "metadata": {},
   "outputs": [
    {
     "data": {
      "text/plain": [
       "0.6145775973399237"
      ]
     },
     "execution_count": 356,
     "metadata": {},
     "output_type": "execute_result"
    }
   ],
   "source": [
    "np.linalg.norm(x_lmb - x_vec) / np.linalg.norm(x_vec)"
   ]
  },
  {
   "cell_type": "markdown",
   "metadata": {},
   "source": [
    "We get better accuracy with preconditioning."
   ]
  },
  {
   "cell_type": "markdown",
   "metadata": {},
   "source": [
    "Now let's check time."
   ]
  },
  {
   "cell_type": "code",
   "execution_count": 363,
   "metadata": {},
   "outputs": [
    {
     "name": "stdout",
     "output_type": "stream",
     "text": [
      "277 ms ± 7.4 ms per loop (mean ± std. dev. of 7 runs, 1 loop each)\n"
     ]
    }
   ],
   "source": [
    "%timeit sp.sparse.linalg.cg(C, y_hat, tol=1e-4)"
   ]
  },
  {
   "cell_type": "code",
   "execution_count": 364,
   "metadata": {},
   "outputs": [
    {
     "name": "stdout",
     "output_type": "stream",
     "text": [
      "2.16 s ± 9.17 ms per loop (mean ± std. dev. of 7 runs, 1 loop each)\n"
     ]
    }
   ],
   "source": [
    "%timeit sp.sparse.linalg.cg(T, y_hat, tol=1e-4)"
   ]
  },
  {
   "cell_type": "code",
   "execution_count": 365,
   "metadata": {},
   "outputs": [
    {
     "name": "stdout",
     "output_type": "stream",
     "text": [
      "Speedup is 11.44385026737968\n"
     ]
    }
   ],
   "source": [
    "print(f'Speedup is {2.14 / .187}')"
   ]
  },
  {
   "cell_type": "markdown",
   "metadata": {},
   "source": [
    "Now let's check iterations."
   ]
  },
  {
   "cell_type": "code",
   "execution_count": 366,
   "metadata": {},
   "outputs": [],
   "source": [
    "def count_iters(_):\n",
    "    count_iters.count += 1\n",
    "count_iters.count = 0"
   ]
  },
  {
   "cell_type": "code",
   "execution_count": 370,
   "metadata": {},
   "outputs": [],
   "source": [
    "sp.sparse.linalg.cg(C, y_hat, tol=1e-4, callback=count_iters);"
   ]
  },
  {
   "cell_type": "code",
   "execution_count": 371,
   "metadata": {},
   "outputs": [
    {
     "data": {
      "text/plain": [
       "32"
      ]
     },
     "execution_count": 371,
     "metadata": {},
     "output_type": "execute_result"
    }
   ],
   "source": [
    "count_iters.count"
   ]
  },
  {
   "cell_type": "code",
   "execution_count": 372,
   "metadata": {},
   "outputs": [],
   "source": [
    "sp.sparse.linalg.cg(T, y_hat, tol=1e-4, callback=count_iters);"
   ]
  },
  {
   "cell_type": "code",
   "execution_count": 373,
   "metadata": {},
   "outputs": [
    {
     "data": {
      "text/plain": [
       "37"
      ]
     },
     "execution_count": 373,
     "metadata": {},
     "output_type": "execute_result"
    }
   ],
   "source": [
    "count_iters.count"
   ]
  },
  {
   "cell_type": "code",
   "execution_count": null,
   "metadata": {},
   "outputs": [],
   "source": []
  },
  {
   "cell_type": "code",
   "execution_count": null,
   "metadata": {},
   "outputs": [],
   "source": []
  }
 ],
 "metadata": {
  "kernelspec": {
   "display_name": "Python 3 (ipykernel)",
   "language": "python",
   "name": "python3"
  },
  "language_info": {
   "codemirror_mode": {
    "name": "ipython",
    "version": 3
   },
   "file_extension": ".py",
   "mimetype": "text/x-python",
   "name": "python",
   "nbconvert_exporter": "python",
   "pygments_lexer": "ipython3",
   "version": "3.9.7"
  },
  "toc": {
   "base_numbering": 1,
   "nav_menu": {},
   "number_sections": true,
   "sideBar": true,
   "skip_h1_title": false,
   "title_cell": "Table of Contents",
   "title_sidebar": "Contents",
   "toc_cell": false,
   "toc_position": {},
   "toc_section_display": true,
   "toc_window_display": false
  }
 },
 "nbformat": 4,
 "nbformat_minor": 2
}
