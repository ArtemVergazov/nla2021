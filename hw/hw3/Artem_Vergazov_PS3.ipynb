{
 "cells": [
  {
   "cell_type": "markdown",
   "metadata": {},
   "source": [
    "# Problem set 3 (90 pts)\n",
    "\n",
    "## Important note: the template for your solution filename is Name_Surname_PS3.ipynb\n",
    "\n",
    "### The correct answer to the bonus question can be used as an additional reason to increase the final grade in the border case"
   ]
  },
  {
   "cell_type": "markdown",
   "metadata": {},
   "source": [
    "## Problem 1 (25 pts)\n",
    "\n",
    "- (5 pts) Prove that $\\mathrm{vec}(AXB) = (B^\\top \\otimes A)\\, \\mathrm{vec}(X)$ if $\\mathrm{vec}(X)$ is a columnwise reshape of a matrix into a long vector. What does it change if the reshape is rowwise? \n",
    "\n",
    "**Note:** To make a columnwise reshape in Python one should use ```np.reshape(X, order='f')```, where the string ```'f'``` stands for the Fortran ordering. \n",
    "\n",
    "- (2 pts) What is the complexity of a naive computation of $(A \\otimes B) x$? Show how it can be reduced.\n",
    "\n",
    "- (3 pts) Let matrices $A$ and $B$ have eigendecompositions $A = S_A\\Lambda_A S_A^{-1}$ and $B = S_B\\Lambda_B S^{-1}_B$. Find eigenvectors and eigenvalues of the matrix $A\\otimes I + I \\otimes B$, where dimension of $I$ coincides with the dimension of $A$ and $B$.\n",
    "\n",
    "\n",
    "- (10 pts) Let $A = \\mathrm{diag}\\left(\\frac{1}{1000},\\frac{2}{1000},\\dots \\frac{999}{1000}, 1, 1000 \\right)$. Estimate analytically the number of iterations required  to solve linear system with $A$ with the relative accuracy $10^{-4}$ using\n",
    "    - Richardson iteration with the optimal choice of parameter (use $2$-norm)\n",
    "    - Chebyshev iteration (use $2$-norm)\n",
    "    - Conjugate gradient method (use $A$-norm).\n",
    "    \n",
    "- (5 pts) Provide numerical confirmation of your estimate from theoretical point of view"
   ]
  },
  {
   "cell_type": "markdown",
   "metadata": {},
   "source": [
    "### Task 1.1\n",
    "\n",
    "Let $B.\\textrm{shape} = (m, n)$. Then $X$ must have $m$ columns.\n",
    "\n",
    "$k$-th column of $A X B$:\n",
    "$$(A X B)_{:, k} = A X B_{:, k} = A \\sum_{i = 1}^m X_{:, i} b_{ik} = \\sum_{i = 1}^m (b_{ik} A \\cdot X_{:, i}) = \\begin{bmatrix} b_{1k} A & b_{2k} A & \\ldots & b_{mk} A \\end{bmatrix} \\begin{bmatrix} X_{:, 1} \\\\ X_{:, 2} \\\\ \\vdots \\\\ X_{:, m} \\end{bmatrix} = ((B_{:, k})^\\top \\otimes A) \\mathrm{vec}(X), \\,\\,\\, k = 1, \\ldots, n$$\n",
    "\n",
    "$$\\mathrm{vec}(A X B) = \\begin{bmatrix} (A X B)_{:, 1} \\\\ \\vdots \\\\ (A X B)_{:, n} \\end{bmatrix} = \\begin{bmatrix} (B_{:, 1})^\\top \\otimes A \\\\ \\vdots \\\\ (B_{:, n})^\\top \\otimes A \\end{bmatrix} \\mathrm{vec}(X) = (B^\\top \\otimes A) \\mathrm{vec}(X)$$"
   ]
  },
  {
   "cell_type": "markdown",
   "metadata": {},
   "source": [
    "If reshape is rowwise, denote it as $\\mathrm{vecr}$. Let $A.\\textrm{shape} = (p, q)$. Then $X$ must have $q$ rows.\n",
    "\n",
    "$k$-th row of $A X B$:\n",
    "\n",
    "$$(A X B)_{k, :} = A_{k, :} X B = \\sum_{i = 1}^q a_{ki} X_{i, :} B = \\sum_{i = 1}^q (X_{i, :} \\cdot a_{ki} B) = \\begin{bmatrix} X_{1, :} & \\dots & X_{q, :} \\end{bmatrix} \\begin{bmatrix} a_{k1} B \\\\ \\vdots \\\\ a_{kq} B \\end{bmatrix} = \\mathrm{vecr}(X)^\\top ((A_{k, :})^\\top \\otimes B)$$\n",
    "\n",
    "$$\\mathrm{vecr}(A X B) = \\begin{bmatrix} ((A X B)_{1, :})^\\top \\\\ \\vdots \\\\ ((A X B)_{p, :})^\\top \\end{bmatrix} = \\begin{bmatrix} (\\mathrm{vecr}(X)^\\top ((A_{1, :})^\\top \\otimes B))^\\top \\\\ \\vdots \\\\ (\\mathrm{vecr}(X)^\\top ((A_{p, :})^\\top \\otimes B))^\\top \\end{bmatrix}$$\n",
    "\n",
    "Using the transpose property of the Kronecker product (https://en.wikipedia.org/wiki/Kronecker_product#Relations_to_other_matrix_operations) that $(A \\otimes B)^\\top = A^\\top \\otimes B^\\top$:\n",
    "\n",
    "$$\\mathrm{vecr}(A X B) = \\begin{bmatrix} A_{1, :} \\otimes B^\\top \\\\ \\vdots \\\\ A_{p, :} \\otimes B^\\top \\end{bmatrix} \\mathrm{vecr}(X) = (A \\otimes B^\\top) \\mathrm{vecr}(X)$$"
   ]
  },
  {
   "cell_type": "markdown",
   "metadata": {},
   "source": [
    "### Task 1.2\n",
    "\n",
    "Let $A.\\textrm{shape} = (m, n)$ and $B.\\textrm{shape} = (p, q)$, then $(A \\otimes B).\\textrm{shape} = (m p, n q)$. This means $x$ must have $n q$ elements. And the result of $(A \\otimes B) x$ has $m p$ elements.\n",
    "\n",
    "Each entry in the Kronecker product is a product of 2 scalars from $A$ and $B$, so, assuming constant-time entry lookup in $A$ and $B$, the complexity of Kronecker product is $O(m n p q)$. Next, multiplying $(A \\otimes B)$ by $x$ takes $O(n q)$ operations for each of $m p$ elements of the result which also gives $O(m n p q)$ complexity. In total, naive computation has $O(m n p q)$ complexity."
   ]
  },
  {
   "cell_type": "markdown",
   "metadata": {},
   "source": [
    "The complexity can be reduced using the results of **task 1.1**. Let $X = \\mathrm{reshape}(x, (q, n))$. Then, $(A \\otimes B) x = \\mathrm{vec}(B X A^\\top)$. If reshaping is efficient, that is if the memory reallocations do not take place and only the indexing rules change, the $\\mathrm{vec}$ operation can be considered to have constant time complexity, $O(1)$. If this is true, we can also not consider the transposition complexity. Then the total complexity of multiplication three matrices with shapes $(p, q)$, $(q, n)$ and $(n, m)$ will be $O(p q n + q n m)$. Now we have more efficient result than the naive approach $O(m n p q)$."
   ]
  },
  {
   "cell_type": "markdown",
   "metadata": {},
   "source": [
    "### Task 1.3\n",
    "\n",
    "Using the mixed-product property and the inverse of a Kronecker product property from https://en.wikipedia.org/wiki/Kronecker_product#Relations_to_other_matrix_operations:\n",
    "\n",
    "$$A \\otimes I + I \\otimes B = S_A \\Lambda_A S_A^{-1} \\otimes S_B S_B^{-1} + S_A S_A^{-1} \\otimes S_B \\Lambda_B S_B^{-1} = (S_A \\Lambda_A \\otimes S_B)(S_A^{-1} \\otimes S_B^{-1}) + (S_A \\otimes S_B \\Lambda_B)(S_A^{-1} \\otimes S_B^{-1}) = (S_A \\Lambda_A \\otimes S_B + S_A \\otimes S_B \\Lambda_B)(S_A^{-1} \\otimes S_B^{-1}) = ((S_A \\otimes S_B)(\\Lambda_A \\times I) + (S_A \\otimes S_B)(I \\otimes \\Lambda_B))(S_A \\otimes S_B)^{-1} = (S_A \\otimes S_B)(\\Lambda_A \\otimes I + I \\otimes \\Lambda_B)(S_A \\otimes S_B)^{-1} = S \\Lambda S^{-1}$$"
   ]
  },
  {
   "cell_type": "markdown",
   "metadata": {},
   "source": [
    "### Task 1.4.1\n",
    "\n",
    "From lecture 11: with the optimal choice of $\\tau$, the $L_2$ norm of error at $k$-th Richardson iteration $\\|e_k\\|_2 \\le q^k \\|e_0\\|_2 \\implies$ relative error is $\\frac{\\|e_k\\|_2}{\\|e_0\\|_2} \\le q^k$\n",
    "\n",
    "$$\\varkappa = \\mathrm{cond}(A) = \\frac{\\lambda_\\max}{\\lambda_\\min} = \\frac{1000}{\\frac{1}{1000}} = 10^6$$\n",
    "\n",
    "From lecture 11:\n",
    "\n",
    "$$q = \\frac{\\varkappa - 1}{\\varkappa + 1} = \\frac{999999}{1000001} \\approx 1$$\n",
    "\n",
    "In order to achieve $10^{-4}$ accuracy, $q^k \\le 10^{-4} \\implies k \\le \\log_q 10^{-4} = -4 \\frac{\\lg 10}{\\lg q} = -\\frac{4}{\\lg q} \\sim 4.5 \\cdot 10^6$ iterations.\n",
    "\n",
    "We are going to need millions of Richardson iterations to converge."
   ]
  },
  {
   "cell_type": "markdown",
   "metadata": {},
   "source": [
    "### Task 1.4.2\n",
    "\n",
    "From lecture 11, relative error at $(k + 1)$-th Chebyshev iteration is $\\frac{\\|e_{k + 1}\\|_2}{\\|e_0\\|_2} \\le C q^k$\n",
    "\n",
    "$$q = \\frac{\\sqrt{\\varkappa} - 1}{\\sqrt{\\varkappa} + 1} \\approx 0.9980...$$\n",
    "\n",
    "$$C q^k \\le 10^{-4} \\implies k \\le -\\log_q C - 4 \\log_q 10 = -\\frac{4 + \\lg C}{\\lg q} \\sim 10^4$$ for $C$ as large as $10^5$, which is better than Richardson iterations."
   ]
  },
  {
   "cell_type": "markdown",
   "metadata": {},
   "source": [
    "### Task 1.4.3\n",
    "\n",
    "From lecture 12: if the matrix has only $m$ different eigenvalues, CG converges in $m$ iterations. In the worst case scenario the algorithm converges in at most 1001 (rank of our matrix) iterations because under the hood it minimizes a quadratic functional.\n",
    "\n",
    "From https://en.wikipedia.org/wiki/Conjugate_gradient_method#Convergence_theorem, the relative error at $k$-th iteration can be estimated as:\n",
    "\n",
    "$$\\frac{\\|e_k\\|_A}{\\|e_0\\|_A} \\le 2 q^k$$\n",
    "\n",
    "$$q = \\frac{\\sqrt{\\varkappa} - 1}{\\sqrt{\\varkappa} + 1} \\approx 0.9980...$$\n",
    "\n",
    "This corresponds to Chebyshev iteration case with $C = 2$:\n",
    "\n",
    "$$2 q^k \\le 10^{-4} \\implies k \\le -\\frac{4 + \\lg 2}{\\lg q} \\sim 5 \\cdot 10^3$$\n",
    "\n",
    "Number of iterations to converge to $10^{-4}$ is bounded theoretically by $5000$ iterations but in fact it is going to take much less."
   ]
  },
  {
   "cell_type": "markdown",
   "metadata": {},
   "source": [
    "### Task 1.5"
   ]
  },
  {
   "cell_type": "code",
   "execution_count": 8,
   "metadata": {},
   "outputs": [],
   "source": [
    "# Your solution is here\n",
    "import numpy as np\n",
    "import scipy.sparse as scp"
   ]
  },
  {
   "cell_type": "code",
   "execution_count": 34,
   "metadata": {},
   "outputs": [],
   "source": [
    "def get_A(n=1000):\n",
    "    return scp.diags((*list(np.arange(1, n + 1) / n), n), format='csr')"
   ]
  },
  {
   "cell_type": "code",
   "execution_count": 160,
   "metadata": {},
   "outputs": [
    {
     "data": {
      "text/plain": [
       "array([[ 0.1,  0. ,  0. ,  0. ,  0. ,  0. ,  0. ,  0. ,  0. ,  0. ,  0. ],\n",
       "       [ 0. ,  0.2,  0. ,  0. ,  0. ,  0. ,  0. ,  0. ,  0. ,  0. ,  0. ],\n",
       "       [ 0. ,  0. ,  0.3,  0. ,  0. ,  0. ,  0. ,  0. ,  0. ,  0. ,  0. ],\n",
       "       [ 0. ,  0. ,  0. ,  0.4,  0. ,  0. ,  0. ,  0. ,  0. ,  0. ,  0. ],\n",
       "       [ 0. ,  0. ,  0. ,  0. ,  0.5,  0. ,  0. ,  0. ,  0. ,  0. ,  0. ],\n",
       "       [ 0. ,  0. ,  0. ,  0. ,  0. ,  0.6,  0. ,  0. ,  0. ,  0. ,  0. ],\n",
       "       [ 0. ,  0. ,  0. ,  0. ,  0. ,  0. ,  0.7,  0. ,  0. ,  0. ,  0. ],\n",
       "       [ 0. ,  0. ,  0. ,  0. ,  0. ,  0. ,  0. ,  0.8,  0. ,  0. ,  0. ],\n",
       "       [ 0. ,  0. ,  0. ,  0. ,  0. ,  0. ,  0. ,  0. ,  0.9,  0. ,  0. ],\n",
       "       [ 0. ,  0. ,  0. ,  0. ,  0. ,  0. ,  0. ,  0. ,  0. ,  1. ,  0. ],\n",
       "       [ 0. ,  0. ,  0. ,  0. ,  0. ,  0. ,  0. ,  0. ,  0. ,  0. , 10. ]])"
      ]
     },
     "execution_count": 160,
     "metadata": {},
     "output_type": "execute_result"
    }
   ],
   "source": [
    "get_A(10).toarray()"
   ]
  },
  {
   "cell_type": "code",
   "execution_count": 140,
   "metadata": {},
   "outputs": [],
   "source": [
    "def richardson(b, tol=1e-4, x=None):\n",
    "    A = get_A(b.size - 1)\n",
    "    tau = 2 / (A[0, 0] + A[-1, -1])\n",
    "    if x is None:\n",
    "        x = np.ones((A.shape[0], 1))\n",
    "    e0 = np.linalg.norm(A @ x - b)\n",
    "    err = e0\n",
    "    res = [1.]\n",
    "    \n",
    "    while err > tol and len(res) <= 1e9:\n",
    "        r = A @ x - b\n",
    "        x -= tau * r\n",
    "        err = np.linalg.norm(r) / e0\n",
    "        res.append(err)\n",
    "\n",
    "    if len(res) > 1e9:\n",
    "        print(f'Max number of iterations reached - {len(res)}')\n",
    "    return x, res"
   ]
  },
  {
   "cell_type": "code",
   "execution_count": 141,
   "metadata": {},
   "outputs": [
    {
     "name": "stdout",
     "output_type": "stream",
     "text": [
      "Richardson iteration took 4605090 iterations\n"
     ]
    }
   ],
   "source": [
    "_, res = richardson(np.ones((1001, 1)))\n",
    "print(f'Richardson iteration took {len(res)} iterations')"
   ]
  },
  {
   "cell_type": "code",
   "execution_count": 142,
   "metadata": {},
   "outputs": [],
   "source": [
    "import matplotlib.pyplot as plt"
   ]
  },
  {
   "cell_type": "code",
   "execution_count": 143,
   "metadata": {},
   "outputs": [
    {
     "data": {
      "image/png": "[encoded data removed]",
      "text/plain": [
       "<Figure size 432x288 with 1 Axes>"
      ]
     },
     "metadata": {
      "needs_background": "light"
     },
     "output_type": "display_data"
    }
   ],
   "source": [
    "plt.semilogy(res)\n",
    "plt.xlabel('Iteration')\n",
    "plt.ylabel('Relative residual')\n",
    "plt.title('Richardson iteration convergence');"
   ]
  },
  {
   "cell_type": "code",
   "execution_count": 144,
   "metadata": {},
   "outputs": [
    {
     "data": {
      "text/plain": [
       "9.999981493746652e-05"
      ]
     },
     "execution_count": 144,
     "metadata": {},
     "output_type": "execute_result"
    }
   ],
   "source": [
    "min(res)"
   ]
  },
  {
   "cell_type": "markdown",
   "metadata": {},
   "source": [
    "Richardson iteration has converged to $10^{-4}$ in $4605090$ iterations as we predicted."
   ]
  },
  {
   "cell_type": "code",
   "execution_count": null,
   "metadata": {},
   "outputs": [],
   "source": []
  },
  {
   "cell_type": "code",
   "execution_count": 146,
   "metadata": {},
   "outputs": [],
   "source": [
    "def chebyshev(b, niters=4096, x=None):\n",
    "    A = get_A(b.size - 1)\n",
    "    roots = [np.cos((np.pi * (2 * i + 1)) / (2 * niters)) for i in range(niters)]\n",
    "    taus = [(A[-1, -1] + A[0, 0] - (A[0, 0] - A[-1, -1]) * r) / 2 for r in roots]\n",
    "    if x is None:\n",
    "        x = np.ones((A.shape[0], 1))\n",
    "    r = A @ x - b\n",
    "    e0 = np.linalg.norm(r)\n",
    "    res = [1.]\n",
    "    \n",
    "    for i in range(niters):\n",
    "        x -= 1 / taus[i] * r\n",
    "        r = A @ x - b\n",
    "        err = np.linalg.norm(r)\n",
    "        res.append(err / e0)\n",
    "        \n",
    "    return x, res"
   ]
  },
  {
   "cell_type": "code",
   "execution_count": 155,
   "metadata": {},
   "outputs": [
    {
     "name": "stderr",
     "output_type": "stream",
     "text": [
      "C:\\Users\\kuzne\\AppData\\Local\\Temp/ipykernel_13428/2685103172.py:12: RuntimeWarning: overflow encountered in multiply\n",
      "  x -= 1 / taus[i] * r\n",
      "C:\\Users\\kuzne\\AppData\\Local\\Temp/ipykernel_13428/2685103172.py:12: RuntimeWarning: invalid value encountered in subtract\n",
      "  x -= 1 / taus[i] * r\n"
     ]
    }
   ],
   "source": [
    "_, res = chebyshev(np.ones((1001, 1)), niters=2*2*16384)"
   ]
  },
  {
   "cell_type": "code",
   "execution_count": 156,
   "metadata": {},
   "outputs": [
    {
     "data": {
      "image/png": "[encoded data removed]",
      "text/plain": [
       "<Figure size 432x288 with 1 Axes>"
      ]
     },
     "metadata": {
      "needs_background": "light"
     },
     "output_type": "display_data"
    }
   ],
   "source": [
    "plt.semilogy(res)\n",
    "plt.xlabel('Iteration')\n",
    "plt.ylabel('Relative residual')\n",
    "plt.title('Chebyshev iteration convergence');"
   ]
  },
  {
   "cell_type": "code",
   "execution_count": 158,
   "metadata": {},
   "outputs": [
    {
     "data": {
      "text/plain": [
       "0.00011866895574707502"
      ]
     },
     "execution_count": 158,
     "metadata": {},
     "output_type": "execute_result"
    }
   ],
   "source": [
    "min(res)"
   ]
  },
  {
   "cell_type": "markdown",
   "metadata": {},
   "source": [
    "Chebyshev iteration has converged to $10^{-4}$ in $6 \\cdot 10^5$ iterations as we predicted. The plot of the residual shows that at some point the error starts to grow because we didn't implement permutation of roots for Chebyshev polynomials but it is ok since we only wanted to see how fast we could reach $10^{-4}$ error."
   ]
  },
  {
   "cell_type": "code",
   "execution_count": null,
   "metadata": {},
   "outputs": [],
   "source": []
  },
  {
   "cell_type": "code",
   "execution_count": 220,
   "metadata": {},
   "outputs": [],
   "source": [
    "import scipy.sparse.linalg as scpl"
   ]
  },
  {
   "cell_type": "code",
   "execution_count": 228,
   "metadata": {},
   "outputs": [
    {
     "name": "stdout",
     "output_type": "stream",
     "text": [
      "CG iteration: 1\n",
      "CG iteration: 2\n",
      "CG iteration: 3\n",
      "CG iteration: 4\n",
      "CG iteration: 5\n",
      "CG iteration: 6\n",
      "CG iteration: 7\n",
      "CG iteration: 8\n",
      "CG iteration: 9\n",
      "CG iteration: 10\n",
      "CG iteration: 11\n",
      "CG iteration: 12\n",
      "CG iteration: 13\n",
      "CG iteration: 14\n",
      "CG iteration: 15\n",
      "CG iteration: 16\n",
      "CG iteration: 17\n",
      "CG iteration: 18\n",
      "CG iteration: 19\n",
      "CG iteration: 20\n",
      "CG iteration: 21\n",
      "CG iteration: 22\n",
      "CG iteration: 23\n",
      "CG iteration: 24\n",
      "CG iteration: 25\n",
      "CG iteration: 26\n",
      "CG iteration: 27\n",
      "CG iteration: 28\n",
      "CG iteration: 29\n",
      "CG iteration: 30\n",
      "CG iteration: 31\n",
      "CG iteration: 32\n",
      "CG iteration: 33\n",
      "CG iteration: 34\n",
      "CG iteration: 35\n",
      "CG iteration: 36\n",
      "CG iteration: 37\n",
      "CG iteration: 38\n",
      "CG iteration: 39\n",
      "CG iteration: 40\n",
      "CG iteration: 41\n",
      "CG iteration: 42\n",
      "CG iteration: 43\n",
      "CG iteration: 44\n",
      "CG iteration: 45\n",
      "CG iteration: 46\n",
      "CG iteration: 47\n",
      "CG iteration: 48\n",
      "CG iteration: 49\n",
      "CG iteration: 50\n",
      "CG iteration: 51\n",
      "CG iteration: 52\n",
      "CG iteration: 53\n",
      "CG iteration: 54\n",
      "CG iteration: 55\n",
      "CG iteration: 56\n",
      "CG iteration: 57\n",
      "CG iteration: 58\n",
      "CG iteration: 59\n",
      "CG iteration: 60\n",
      "CG iteration: 61\n",
      "CG iteration: 62\n",
      "CG iteration: 63\n",
      "CG iteration: 64\n",
      "CG iteration: 65\n",
      "CG iteration: 66\n",
      "CG iteration: 67\n",
      "CG iteration: 68\n",
      "CG iteration: 69\n",
      "CG iteration: 70\n",
      "CG iteration: 71\n",
      "CG iteration: 72\n",
      "CG iteration: 73\n",
      "CG iteration: 74\n",
      "CG iteration: 75\n",
      "CG iteration: 76\n",
      "CG iteration: 77\n",
      "CG iteration: 78\n",
      "CG iteration: 79\n",
      "CG iteration: 80\n",
      "CG iteration: 81\n",
      "CG iteration: 82\n",
      "CG iteration: 83\n",
      "CG iteration: 84\n",
      "CG iteration: 85\n",
      "CG iteration: 86\n",
      "CG iteration: 87\n",
      "CG iteration: 88\n",
      "CG iteration: 89\n",
      "CG iteration: 90\n",
      "CG iteration: 91\n",
      "CG iteration: 92\n",
      "CG iteration: 93\n",
      "CG iteration: 94\n",
      "CG iteration: 95\n",
      "CG iteration: 96\n",
      "CG iteration: 97\n",
      "CG iteration: 98\n",
      "CG iteration: 99\n",
      "CG iteration: 100\n",
      "CG iteration: 101\n",
      "CG iteration: 102\n",
      "CG iteration: 103\n",
      "CG iteration: 104\n",
      "CG iteration: 105\n",
      "CG iteration: 106\n",
      "CG iteration: 107\n",
      "CG iteration: 108\n",
      "CG iteration: 109\n",
      "CG iteration: 110\n",
      "CG iteration: 111\n",
      "CG iteration: 112\n",
      "CG iteration: 113\n",
      "CG iteration: 114\n",
      "CG iteration: 115\n",
      "CG iteration: 116\n",
      "CG iteration: 117\n",
      "CG iteration: 118\n",
      "CG iteration: 119\n",
      "CG iteration: 120\n",
      "CG iteration: 121\n",
      "CG iteration: 122\n",
      "CG iteration: 123\n",
      "CG iteration: 124\n",
      "CG iteration: 125\n",
      "CG iteration: 126\n",
      "CG iteration: 127\n",
      "CG iteration: 128\n",
      "CG iteration: 129\n",
      "CG iteration: 130\n",
      "CG iteration: 131\n",
      "CG iteration: 132\n",
      "CG iteration: 133\n",
      "CG iteration: 134\n",
      "CG iteration: 135\n",
      "CG iteration: 136\n",
      "CG iteration: 137\n",
      "CG iteration: 138\n",
      "CG iteration: 139\n",
      "CG iteration: 140\n"
     ]
    }
   ],
   "source": [
    "def cg_callback(_):\n",
    "    cg_callback.count += 1\n",
    "    print(f'CG iteration: {cg_callback.count}')\n",
    "cg_callback.count = 0\n",
    "\n",
    "scpl.cg(get_A(n=1000), np.ones((1001, 1)), tol=1e-4, callback=cg_callback);"
   ]
  },
  {
   "cell_type": "markdown",
   "metadata": {},
   "source": [
    "CG converged in 140 iterations - even faster than we expected."
   ]
  },
  {
   "cell_type": "code",
   "execution_count": null,
   "metadata": {},
   "outputs": [],
   "source": []
  },
  {
   "cell_type": "markdown",
   "metadata": {
    "id": "dh0nKsm46hpo"
   },
   "source": [
    "## Problem 2 (65 pts)\n",
    "### On the performance of conjugate gradient method for BTTB matrices.\n",
    "\n",
    "You are given 2D image (QR-code) and convolution operator $T$. The application of $T$ results in smoothing of the image. In exact arithmetic, the proposed $T$ is non-singular. However, it becomes rather ill-conditioned with increasing $N$ in finite precision arithmetic. In this task you need to study how the conjugate gradient method performs in this case."
   ]
  },
  {
   "cell_type": "markdown",
   "metadata": {
    "id": "3gi5DJJz6hps"
   },
   "source": [
    "The original passcode is given below:"
   ]
  },
  {
   "cell_type": "code",
   "execution_count": 1,
   "metadata": {
    "id": "mxPusfbx6hps",
    "outputId": "2fe5ac3f-c23e-4f3d-dc69-b211ec69506b"
   },
   "outputs": [
    {
     "data": {
      "text/plain": [
       "(-0.5, 329.5, 329.5, -0.5)"
      ]
     },
     "execution_count": 1,
     "metadata": {},
     "output_type": "execute_result"
    },
    {
     "data": {
      "image/png": "[encoded data removed]",
      "text/plain": [
       "<Figure size 432x288 with 1 Axes>"
      ]
     },
     "metadata": {
      "needs_background": "light"
     },
     "output_type": "display_data"
    }
   ],
   "source": [
    "import matplotlib.pyplot as plt\n",
    "x = plt.imread('qrcode.gif')[:,:,0]\n",
    "n = x.shape[0]\n",
    "plt.imshow(x, cmap=\"gray\")\n",
    "plt.axis(\"off\")"
   ]
  },
  {
   "cell_type": "markdown",
   "metadata": {
    "id": "uHzqVBAK6hpu"
   },
   "source": [
    "Blurring can be performed by convolving $n\\times n$ QR-code with the following filter:\n",
    "\n",
    "$$T_{i_1j_1,i_2j_2} = T_{i_1-j_1,i_2-j_2} = \\frac{\\alpha}{\\pi}e^{-\\alpha[(i_1-j_1)^2 + (i_2-j_2)^2]}, \\quad i_1,j_1,i_2,j_2 = 1 \\ldots n, \\quad 1 > \\alpha > 0.$$\n",
    "\n",
    "You know from lectures that this convolution can be viewed as a matrix-vector multiplication of some BTTB matrix $T$ of size $n^2 \\times n^2$."
   ]
  },
  {
   "cell_type": "markdown",
   "metadata": {
    "id": "nQSQVkG86hpu"
   },
   "source": [
    "## Task 1 (15 pts) \n",
    "\n",
    "- Write function `T_matvec()` that performs multiplication of $T$ by a given vector $x$ efficiently. Remember about FFT.\n",
    "- Use `scipy.sparse.linalg.LinearOperator` to create an object that has attribute `.dot()` (this object will be further used in the iterative process). Note that `.dot()` input and output must be 1D vectors, so do not forget to use reshape."
   ]
  },
  {
   "cell_type": "code",
   "execution_count": null,
   "metadata": {
    "id": "SKiL6Iky6hpv"
   },
   "outputs": [],
   "source": [
    "def T_matvec(x, aplha):\n",
    "    pass\n",
    "\n",
    "# T = spla.LinearOperator((n**2, n**2), matvec = lambda x : T_matvec(x, alpha))\n",
    "# your code is here"
   ]
  },
  {
   "cell_type": "markdown",
   "metadata": {
    "id": "Vpj3Llkc6hpv"
   },
   "source": [
    "**Remark.** The obtained matrix $T$ is positive definite (at least in the exact arithmetic), hence the conjugate gradient method can be applied to solve with $T$.\n",
    "\n",
    "**Bonus question: Prove the remark above.**"
   ]
  },
  {
   "cell_type": "markdown",
   "metadata": {
    "id": "fyoFYerG6hpw"
   },
   "source": [
    "## Task 2 (10 pts) \n",
    "- For $\\alpha \\in \\{ 0.1, 0.01,0.001\\}$ compute $y=Tx$ and deconvolve $x$ using `scipy.sparse.linalg.cg` with $tol \\in \\{10^{-3}, 10^{-4}, 10^{-5}, 10^{-6}, 10^{-7}\\}$. For each pair $\\alpha$, $tol$ write out `num_iters` and relative error $e = \\frac{\\|x - x^*\\|_2}{\\|x\\|_2}$ .\n",
    "- Comment on the results: \n",
    "\n",
    "    1) why the relative error does not converge to zero? \n",
    "    \n",
    "    2) why the relative error converges to different values for different $\\alpha$?"
   ]
  },
  {
   "cell_type": "code",
   "execution_count": null,
   "metadata": {
    "id": "1ZziAoPv6hpw"
   },
   "outputs": [],
   "source": [
    "# your code is here"
   ]
  },
  {
   "cell_type": "markdown",
   "metadata": {
    "id": "lJ4XOLfw6hpx"
   },
   "source": [
    "In all further tasks fix $\\alpha = 0.01$. Compute $y = Tx$, and add vector with Gaussian noise from $\\mathcal{N}(0, 1)$ to $y$ and get the final right-hand side $\\hat{y}$.\n",
    "\n",
    "## Task 3 (10 pts)\n",
    "- Try to deconvolve $\\hat{y}$ with matrix $T$ using $tol=10^{-5}$ in CG. Explain, why CG does not converge.\n",
    "- Suggest how CG can still be used to recover $x$. What are drawbacks of the suggested approach?"
   ]
  },
  {
   "cell_type": "code",
   "execution_count": null,
   "metadata": {
    "id": "JzT0Wfzl6hpx"
   },
   "outputs": [],
   "source": [
    "# your code is here"
   ]
  },
  {
   "cell_type": "markdown",
   "metadata": {
    "id": "ez3m0Y-n6hpy"
   },
   "source": [
    "## Task 4 (10 pts)\n",
    "\n",
    "- Implement Tikhonov regularization, i.e. deconvolve $\\hat{y}$ with the perturbed matrix $T_{\\lambda} = T + \\lambda^2I$ instead of $T$. Modify `T_matvec()` according to the template below.\n",
    "- Perform computations for all $\\lambda \\in \\{10, 1, 0.1\\}$ and $tol \\in \\{10^{-3}, 10^{-4}, 10^{-5},10^{-6}, 10^{-7} \\}$. For each pair $(\\lambda, tol)$ write out `num_iters` and relative error $e = \\frac{\\|x - x^*\\|_2}{\\|x\\|_2}$. Comment on the results: \n",
    "    - Compare robustness of the convergence with task 2. What the observed results indicate?"
   ]
  },
  {
   "cell_type": "code",
   "execution_count": null,
   "metadata": {
    "id": "IIs9QI7R6hpy"
   },
   "outputs": [],
   "source": [
    "def T_lmbda_matvec(x, aplha, lmbda):\n",
    "    pass\n",
    "\n",
    "# your code is here"
   ]
  },
  {
   "cell_type": "markdown",
   "metadata": {
    "id": "ut0QG1AW6hpy"
   },
   "source": [
    "## Task 5 (20 pts)\n",
    "\n",
    "- Implement BCCB preconditioner for $T_{\\lambda}$ based on Strang preconditioner for Toeplitz matrix (hint: build circulants using first columns of Toeplitz matrices on both levels). You know from lectures that circulants can be explicitly inverted using convolution theorem. Implement the corresponding matvec according to the template provided below.\n",
    "- Check speedup in iterations and runtime that can be gained from the preconditioning for $\\alpha = 0.01$, $\\lambda = 1$ compared with Task 4. Explain results."
   ]
  },
  {
   "cell_type": "code",
   "execution_count": null,
   "metadata": {
    "id": "DiJcm6XQ6hpz"
   },
   "outputs": [],
   "source": [
    "def C_inv_matvec(x, alpha, lmbda):\n",
    "    pass\n",
    "\n",
    "# your code is here"
   ]
  }
 ],
 "metadata": {
  "kernelspec": {
   "display_name": "Python 3 (ipykernel)",
   "language": "python",
   "name": "python3"
  },
  "language_info": {
   "codemirror_mode": {
    "name": "ipython",
    "version": 3
   },
   "file_extension": ".py",
   "mimetype": "text/x-python",
   "name": "python",
   "nbconvert_exporter": "python",
   "pygments_lexer": "ipython3",
   "version": "3.9.7"
  },
  "toc": {
   "base_numbering": 1,
   "nav_menu": {},
   "number_sections": true,
   "sideBar": true,
   "skip_h1_title": false,
   "title_cell": "Table of Contents",
   "title_sidebar": "Contents",
   "toc_cell": false,
   "toc_position": {},
   "toc_section_display": true,
   "toc_window_display": false
  }
 },
 "nbformat": 4,
 "nbformat_minor": 2
}
