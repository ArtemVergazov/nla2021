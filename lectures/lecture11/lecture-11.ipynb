{
 "cells": [
  {
   "cell_type": "markdown",
   "metadata": {
    "slideshow": {
     "slide_type": "slide"
    }
   },
   "source": [
    "# Lecture 11. Direct solvers for sparse matrices (cont'd). Intro to iterative methods"
   ]
  },
  {
   "cell_type": "markdown",
   "metadata": {
    "slideshow": {
     "slide_type": "slide"
    }
   },
   "source": [
    "## Previous lecture: what was already discussed \n",
    "\n",
    "- LU decomposition for sparse matrices: make factors sparse!\n",
    "- Fill-in and the reasons of its appearance\n",
    "- Arrowhead structure helps to minimize fill-in\n",
    "\n",
    "Today we will sequentially discuss approaches to minimize fill-in"
   ]
  },
  {
   "cell_type": "markdown",
   "metadata": {
    "slideshow": {
     "slide_type": "slide"
    }
   },
   "source": [
    "## Fill-in upper bound minimization: Markowitz pivoting\n",
    "\n",
    "- General purpose approach to ordering the elements of sparse matrix that will be eliminated\n",
    "- The Markowitz merit for every non-zero element with indices $(i, j)$ is computed as $(r_i - 1)(c_j - 1)$, where $r_i$ is number of nonzeros elements in the $i$-th row and $c_j$ is a number of non-zero elements in the $j$-th column\n",
    "- This value is an upper abound on the fill-in after eliminating the $(i, j)$ element. **Why?**\n",
    "- We can order elements with respect to these values, select the one with minimum value, eliminate it and update matrix. What about stability?\n",
    "- Then re-compute these values and repeat the procedure\n",
    "- This method gives us the permutations of rows and columns and sparse factors\n",
    "- Main drawback is efficient supporting number of nnz in every row and column after matrix update without complete re-calculating\n",
    "- More details can be found in book [Direct Methods for Sparse Matrices by I. S. Duff, A. M. Erisman, and J. K. Reid](https://oxford.universitypressscholarship.com/view/10.1093/acprof:oso/9780198508380.001.0001/acprof-9780198508380)\n",
    "- De facto standard approach in solving Linear programming (LP) problems and their MILP modifications"
   ]
  },
  {
   "cell_type": "markdown",
   "metadata": {
    "slideshow": {
     "slide_type": "slide"
    }
   },
   "source": [
    "## What if consider only neighbours? We get minimal degree ordering!\n",
    "\n",
    "- The idea is to eliminate rows and/or columns with fewer non-zeros, update fill-in and then repeat. How it relates to Markowitz pivoting?\n",
    "\n",
    "- Efficient implementation is an issue (adding/removing elements).\n",
    "\n",
    "- Current champion is \"approximate minimal degree\" by Amestoy, Davis, Duff.\n",
    "\n",
    "- It is **suboptimal** even for 2D PDE problems\n",
    "\n",
    "- SciPy sparse package [uses](https://docs.scipy.org/doc/scipy-0.14.0/reference/generated/scipy.sparse.linalg.splu.html) minimal ordering approach for different matrices ($A^{\\top}A$, $A + A^{\\top}$) "
   ]
  },
  {
   "cell_type": "markdown",
   "metadata": {
    "slideshow": {
     "slide_type": "slide"
    }
   },
   "source": [
    "## But in these methods we ignore the knowledge of good structure for sparse LU! \n",
    "## Let's exploit it explicitly in the method!"
   ]
  },
  {
   "cell_type": "markdown",
   "metadata": {
    "slideshow": {
     "slide_type": "slide"
    }
   },
   "source": [
    "## How to formalize reduction to block arrowhead form?\n",
    "\n",
    "**Definition.** A **separator** in a graph $G$ is a set $S$ of vertices whose removal leaves at\n",
    "least two connected components.\n",
    "\n",
    "Separator $S$ gives the following ordering for an $N$-vertex graph $G$:\n",
    "- Find a separator $S$, whose removal leaves connected components\n",
    "$T_1$, $T_2$, $\\ldots$, $T_k$\n",
    "- Number the vertices of $S$ from $N − |S| + 1$ to $N$\n",
    "- Recursively, number the vertices of each component: $T_1$ from $1$ to\n",
    "$|T_1|$, $T_2$ from $|T_1| + 1$ to $|T_1| + |T_2|$, etc\n",
    "- If a component is small enough, enumeration in this component is arbitrarily"
   ]
  },
  {
   "cell_type": "markdown",
   "metadata": {
    "slideshow": {
     "slide_type": "slide"
    }
   },
   "source": [
    "### Separator and block arrowhead structure: example\n",
    "\n",
    "Separator for the 2D Laplacian matrix \n",
    "\n",
    "$$\n",
    " A_{2D} = I \\otimes A_{1D} + A_{1D} \\otimes I, \\quad A_{1D} = \\mathrm{tridiag}(-1, 2, -1),\n",
    "$$\n",
    "\n",
    "is as follows\n",
    "\n",
    "<img src='separator.png' width=300> </img>"
   ]
  },
  {
   "cell_type": "markdown",
   "metadata": {
    "slideshow": {
     "slide_type": "slide"
    }
   },
   "source": [
    "Once we have enumerated first indices in $\\alpha$, then in $\\beta$ and separators indices in $\\sigma$ we get the following matrix\n",
    "\n",
    "$$\n",
    "PAP^\\top = \\begin{bmatrix} A_{\\alpha\\alpha} &  & A_{\\alpha\\sigma} \\\\  & A_{\\beta\\beta} & A_{\\beta\\sigma} \\\\ A_{\\sigma\\alpha} & A_{\\sigma\\beta} & A_{\\sigma\\sigma}\\end{bmatrix}\n",
    "$$\n",
    "\n",
    "which has arrowhrad structure.\n",
    "\n",
    "- Thus, the problem of finding **permutation** was reduced to the problem of finding **graph separator**!"
   ]
  },
  {
   "cell_type": "markdown",
   "metadata": {
    "slideshow": {
     "slide_type": "slide"
    }
   },
   "source": [
    "## The method of recursive reduction to block arrowhead structure – Nested dissection\n",
    "\n",
    "- For blocks $A_{\\alpha\\alpha}$, $A_{\\beta\\beta}$ we continue splitting recursively.\n",
    "\n",
    "- When the recursion is done, we need to eliminate blocks $A_{\\sigma\\alpha}$ and $A_{\\sigma\\beta}$. \n",
    "\n",
    "- This makes block in the position of $A_{\\sigma\\sigma}\\in\\mathbb{R}^{n\\times n}$ dense.\n",
    "\n",
    "Calculation of Cholesky of this block costs $\\mathcal{O}(n^3) = \\mathcal{O}(N^{3/2})$, where $N = n^2$ is the total number of nodes.\n",
    "\n",
    "So, the complexity is $\\mathcal{O}(N^{3/2})$"
   ]
  },
  {
   "cell_type": "markdown",
   "metadata": {
    "slideshow": {
     "slide_type": "slide"
    }
   },
   "source": [
    "## Packages for nested dissection\n",
    "\n",
    "- MUltifrontal Massively Parallel sparse direct Solver ([MUMPS](http://mumps.enseeiht.fr/))\n",
    "- [Pardiso](https://www.pardiso-project.org/)\n",
    "- [Umfpack as part of SuiteSparse](http://faculty.cse.tamu.edu/davis/suitesparse.html)\n",
    "\n",
    "All of them have interfaces for C/C++, Fortran and Matlab "
   ]
  },
  {
   "cell_type": "markdown",
   "metadata": {
    "slideshow": {
     "slide_type": "slide"
    }
   },
   "source": [
    "### Nested dissection summary\n",
    "\n",
    "- Enumeration: find a separator.\n",
    "- Divide-and-conquer paradigm\n",
    "- Recursively process two subsets of vertices after separation\n",
    "- In theory, nested dissection gives optimal complexity. \n",
    "- In practice, it beats others only for very large problems."
   ]
  },
  {
   "cell_type": "markdown",
   "metadata": {
    "slideshow": {
     "slide_type": "slide"
    }
   },
   "source": [
    "## Separators in practice\n",
    "\n",
    "- Computing separators is not a **trivial task**.\n",
    "\n",
    "- Graph partitioning heuristics has been an active research area for many years, often motivated by partitioning for parallel computation.\n",
    "\n",
    "Existing approaches:\n",
    "\n",
    "- Spectral partitioning (uses eigenvectors of Laplacian matrix of graph) - more details below\n",
    "- Geometric partitioning (for meshes with specified vertex coordinates) [review and analysis](http://citeseerx.ist.psu.edu/viewdoc/download?doi=10.1.1.31.4886&rep=rep1&type=pdf)\n",
    "- Iterative-swapping ([(Kernighan-Lin, 1970)](http://xilinx.asia/_hdl/4/eda.ee.ucla.edu/EE201A-04Spring/kl.pdf), [(Fiduccia-Matheysses, 1982](https://dl.acm.org/citation.cfm?id=809204))\n",
    "- Breadth-first search [(Lipton, Tarjan 1979)](http://www.cs.princeton.edu/courses/archive/fall06/cos528/handouts/sepplanar.pdf)\n",
    "- Multilevel recursive bisection (heuristic, currently most practical) ([review](https://people.csail.mit.edu/jshun/6886-s18/lectures/lecture13-1.pdf) and [paper](http://citeseerx.ist.psu.edu/viewdoc/download?doi=10.1.1.499.4130&rep=rep1&type=pdf)). Package for such kind of partitioning is called METIS, written in C, and available [here](http://glaros.dtc.umn.edu/gkhome/views/metis)"
   ]
  },
  {
   "cell_type": "markdown",
   "metadata": {
    "slideshow": {
     "slide_type": "slide"
    }
   },
   "source": [
    "## One of the ways to construct separators – spectral graph partitioning\n",
    "\n",
    "- The idea of spectral partitioning goes back to Miroslav Fiedler, who studied connectivity of graphs ([paper](https://dml.cz/bitstream/handle/10338.dmlcz/101168/CzechMathJ_23-1973-2_11.pdf)).\n",
    "\n",
    "- We need to split the vertices into two sets.\n",
    "\n",
    "- Consider +1/-1 labeling of vertices and **the cost**\n",
    "\n",
    "$$E_c(x) = \\sum_{j} \\sum_{i \\in N(j)} (x_i - x_j)^2, \\quad N(j) \\text{ denotes set of neighbours of a node } j. $$\n",
    "\n",
    "- We need a balanced partition, thus \n",
    "\n",
    "$$\\sum_i x_i =  0 \\quad \\Longleftrightarrow \\quad x^\\top e = 0, \\quad e = \\begin{bmatrix}1 & \\dots & 1\\end{bmatrix}^\\top,$$\n",
    "\n",
    "and since we have +1/-1 labels, we have\n",
    "\n",
    "$$\\sum_i x^2_i = n \\quad \\Longleftrightarrow \\quad \\|x\\|_2^2 = n.$$"
   ]
  },
  {
   "cell_type": "markdown",
   "metadata": {
    "slideshow": {
     "slide_type": "slide"
    }
   },
   "source": [
    "## Graph Laplacian\n",
    "\n",
    "Cost $E_c$ can be written as (check why)\n",
    "\n",
    "$$E_c = (Lx, x)$$\n",
    "\n",
    "where $L$ is the **graph Laplacian**, which is defined as a symmetric matrix with\n",
    "\n",
    "$$L_{ii} = \\mbox{degree of node $i$},$$\n",
    "\n",
    "$$L_{ij} = -1, \\quad \\mbox{if $i \\ne j$  and there is an edge},$$\n",
    "\n",
    "and $0$ otherwise.\n",
    "\n",
    "- Rows of $L$ sum to zero, thus there is an eigenvalue $0$ and gives trivial eigenvector of all ones.\n",
    "- Eigenvalues are non-negative (why?)."
   ]
  },
  {
   "cell_type": "markdown",
   "metadata": {
    "slideshow": {
     "slide_type": "slide"
    }
   },
   "source": [
    "## Partitioning as an optimization problem\n",
    "\n",
    "- Minimization of $E_c$ with the mentioned constraints leads to a partitioning that tries to minimize number of edges in a separator, while keeping the partition balanced. \n",
    "\n",
    "- We now relax the integer quadratic programming to the continuous quadratic programming\n",
    "\n",
    "$$E_c(x) = (Lx, x)\\to \\min_{\\substack{x^\\top e =0, \\\\ \\|x\\|_2^2 = n}}$$"
   ]
  },
  {
   "cell_type": "markdown",
   "metadata": {
    "slideshow": {
     "slide_type": "slide"
    }
   },
   "source": [
    "## From Fiedler vector to separator\n",
    "\n",
    "- The solution to the minimization problem is given by the eigenvector (called Fiedler vector) corresponding  to the second smallest eigenvalue of the graph Laplacian. Indeed,\n",
    "\n",
    "$$\n",
    "    \\min_{\\substack{x^\\top e =0, \\\\ \\|x\\|_2^2 = n}} (Lx, x) = n \\cdot \\min_{{x^\\top e =0}} \\frac{(Lx, x)}{(x, x)} = n \\cdot \\min_{{x^\\top e =0}} R(x), \\quad R(x) \\text{ is the Rayleigh quotient}\n",
    "$$\n",
    "\n",
    "- Since $e$ is the eigenvector, corresponding to the smallest eigenvalue, on the space $x^\\top e =0$ we get the second minimal eigevalue.\n",
    "\n",
    "- The sign $x_i$ indicates the partitioning.\n",
    "\n",
    "- In computations, we need to find out, how to find this second minimal eigenvalue –– we at least know about power method, but it finds the largest. We will discuss iterative methods for eigenvalue problems later in our course.\n",
    "\n",
    "- This is the main goal of the iterative methods for large-scale linear problems, and can be achieved via few matrix-by-vector products."
   ]
  },
  {
   "cell_type": "code",
   "execution_count": 1,
   "metadata": {
    "slideshow": {
     "slide_type": "slide"
    }
   },
   "outputs": [
    {
     "name": "stdout",
     "output_type": "stream",
     "text": [
      "Number of vertices = 34\n",
      "Number of edges = 78\n"
     ]
    },
    {
     "data": {
      "image/png": "[encoded data removed]",
      "text/plain": [
       "<Figure size 432x288 with 1 Axes>"
      ]
     },
     "metadata": {},
     "output_type": "display_data"
    }
   ],
   "source": [
    "import numpy as np\n",
    "%matplotlib inline\n",
    "import matplotlib.pyplot as plt\n",
    "import networkx as nx\n",
    "kn = nx.read_gml('karate.gml')\n",
    "print(\"Number of vertices = {}\".format(kn.number_of_nodes()))\n",
    "print(\"Number of edges = {}\".format(kn.number_of_edges()))\n",
    "nx.draw_networkx(kn, node_color=\"red\") #Draw the graph"
   ]
  },
  {
   "cell_type": "code",
   "execution_count": 2,
   "metadata": {
    "slideshow": {
     "slide_type": "slide"
    }
   },
   "outputs": [
    {
     "data": {
      "image/png": "[encoded data removed]",
      "text/plain": [
       "<Figure size 432x288 with 1 Axes>"
      ]
     },
     "metadata": {
      "needs_background": "light"
     },
     "output_type": "display_data"
    },
    {
     "name": "stdout",
     "output_type": "stream",
     "text": [
      "The 2 smallest eigenvalues = [-4.14058418e-15  4.68525227e-01]\n"
     ]
    }
   ],
   "source": [
    "import scipy.sparse.linalg as spsplin\n",
    "Laplacian = nx.laplacian_matrix(kn).asfptype()\n",
    "plt.spy(Laplacian, markersize=5)\n",
    "plt.title(\"Graph laplacian\")\n",
    "plt.axis(\"off\")\n",
    "plt.show()\n",
    "eigval, eigvec = spsplin.eigsh(Laplacian, k=2, which=\"SM\")\n",
    "print(\"The 2 smallest eigenvalues =\", eigval)"
   ]
  },
  {
   "cell_type": "code",
   "execution_count": 3,
   "metadata": {
    "slideshow": {
     "slide_type": "slide"
    }
   },
   "outputs": [
    {
     "data": {
      "image/png": "[encoded data removed]",
      "text/plain": [
       "<Figure size 432x288 with 1 Axes>"
      ]
     },
     "metadata": {
      "needs_background": "light"
     },
     "output_type": "display_data"
    },
    {
     "name": "stdout",
     "output_type": "stream",
     "text": [
      "Sum of elements in Fiedler vector = 8.743006318923108e-16\n"
     ]
    }
   ],
   "source": [
    "plt.scatter(np.arange(len(eigvec[:, 1])), np.sign(eigvec[:, 1]))\n",
    "plt.show()\n",
    "print(\"Sum of elements in Fiedler vector = {}\".format(np.sum(eigvec[:, 1].real)))"
   ]
  },
  {
   "cell_type": "code",
   "execution_count": 4,
   "metadata": {
    "slideshow": {
     "slide_type": "slide"
    }
   },
   "outputs": [
    {
     "data": {
      "image/png": "[encoded data removed]",
      "text/plain": [
       "<Figure size 432x288 with 1 Axes>"
      ]
     },
     "metadata": {},
     "output_type": "display_data"
    }
   ],
   "source": [
    "nx.draw_networkx(kn, node_color=np.sign(eigvec[:, 1]))"
   ]
  },
  {
   "cell_type": "markdown",
   "metadata": {
    "slideshow": {
     "slide_type": "slide"
    }
   },
   "source": [
    "### Summary on demo\n",
    "\n",
    "- Here we call SciPy sparse function to find fixed number of eigenvalues (and eigenvectors) that are smallest (other options are possible)\n",
    "- Details of the underlying method we will discuss soon\n",
    "- Fiedler vector gives simple separation of the graph\n",
    "- To separate graph on more than two parts you should use eigenvectors of laplacian as feature vectors and run some clustering algorithm, e.g. $k$-means"
   ]
  },
  {
   "cell_type": "markdown",
   "metadata": {
    "slideshow": {
     "slide_type": "slide"
    }
   },
   "source": [
    "### Fiedler vector and algebraic connectivity of a graph\n",
    "\n",
    "**Definition.** The algebraic connectivity of a graph is the second-smallest eigenvalue of the Laplacian matrix.\n",
    "\n",
    "**Claim.** The algebraic connectivity of a graph is greater than 0 if and only if a graph is a connected graph."
   ]
  },
  {
   "cell_type": "markdown",
   "metadata": {
    "slideshow": {
     "slide_type": "slide"
    }
   },
   "source": [
    "## Practical problems\n",
    "\n",
    "Computing bisection recursively is expensive. \n",
    "\n",
    "As an alternative, one typically computes **multilevel bisection** that consists of 3 phases.\n",
    "\n",
    "- Graph coarsening: From a given graph, we join vertices into larger nodes, and get sequences of graphs $G_1, \\ldots, G_m$. \n",
    "- At the coarse level, we do high-quality bisection\n",
    "- Then, we do **uncoarsening**: we propagate the splitting from $G_k$ to $G_{k-1}$ and improve the quality of the split by local optimization algorithms (refinement). "
   ]
  },
  {
   "cell_type": "markdown",
   "metadata": {
    "slideshow": {
     "slide_type": "slide"
    }
   },
   "source": [
    "## Practical problems (2)\n",
    "\n",
    "- Once the permutation has been computed, we need to implement the elimination, making use of efficient computational kernels. \n",
    "\n",
    "- If in the elemination we will be able to get the elements into **blocks**, we will be able to use BLAS-3 computations. \n",
    "\n",
    "- It is done by **supernodal** data structures: \n",
    "\n",
    "- If adjacent rows have the same sparsity structure, they can be stored in **blocks**:\n",
    "\n",
    "- Also, we can use such structure in efficient computations!\n",
    "\n",
    "[Details in this survey](https://arxiv.org/pdf/1907.05309.pdf)"
   ]
  },
  {
   "cell_type": "markdown",
   "metadata": {
    "slideshow": {
     "slide_type": "slide"
    }
   },
   "source": [
    "## Take home message about direct methods for sparse matrices\n",
    "\n",
    "- Sparse matrices & graphs ordering\n",
    "- Ordering is important for LU fill-in: more details in the next lecture\n",
    "- Markowitz pivoting and minimal degree ordering\n",
    "- Orderings from SciPy sparse package\n",
    "- Separators and how do they help in fill-in minimization\n",
    "- Nested dissection idea\n",
    "- Fiedler vector and spectral bipartitioning"
   ]
  },
  {
   "cell_type": "markdown",
   "metadata": {
    "slideshow": {
     "slide_type": "slide"
    }
   },
   "source": [
    "# The main topics for today\n",
    "\n",
    "Concept of **iterative methods** for linear systems: \n",
    "- Richardson iteration and its convergence\n",
    "- Chebyshev iteration"
   ]
  },
  {
   "cell_type": "markdown",
   "metadata": {
    "slideshow": {
     "slide_type": "slide"
    }
   },
   "source": [
    "# Iterative methods\n",
    "\n",
    "- If we want to achieve $\\mathcal{O}(N)$ complexity of solving sparse linear systems, then direct solvers are not appropriate.\n",
    "\n",
    "- If we want to solve partial eigenproblem, the full eigendecomposition is too costly.\n",
    "\n",
    "- For both problems we will use iterative, Krylov subspace solvers, which treat the matrix as a **black-box** linear operator."
   ]
  },
  {
   "cell_type": "markdown",
   "metadata": {
    "slideshow": {
     "slide_type": "slide"
    }
   },
   "source": [
    "## Matrix as a black box\n",
    "\n",
    "- We have now an absolutely different view on a matrix: matrix is now a **linear operator**, that acts on a vector,  \n",
    "and this action can be computed in $\\mathcal{O}(N)$ operations.\n",
    "\n",
    "- **This is the only information** we know about the matrix: the <span style='color:red'> matrix-by-vector product (matvec) </span>\n",
    "\n",
    "- Can we solve linear systems using only matvecs?\n",
    "\n",
    "- Of course, we can multiply by the colums of the identity matrix, and recover the full matrix, but it is not what we need."
   ]
  },
  {
   "cell_type": "markdown",
   "metadata": {
    "slideshow": {
     "slide_type": "slide"
    }
   },
   "source": [
    "## Richardson iteration\n",
    "The simplest idea is the **\"simple iteration method\"** or **Richardson iteration**.  \n",
    "\n",
    "\n",
    "  $$Ax = f,$$\n",
    "  $$\\tau  (Ax - f) = 0,$$\n",
    "   $$x - \\tau (Ax - f) = x,$$\n",
    "   $$x_{k+1} = x_k - \\tau (Ax_k - f),$$\n",
    "   \n",
    "   where $\\tau$ is the **iteration parameter**, which can be always chosen such that the method **converges**."
   ]
  },
  {
   "cell_type": "markdown",
   "metadata": {
    "slideshow": {
     "slide_type": "slide"
    }
   },
   "source": [
    "## Connection to ODEs\n",
    "\n",
    "- The Richardson iteration has a deep connection to the Ordinary Differential Equations (ODE).\n",
    "\n",
    "\n",
    "- Consider a time-dependent problem ($A=A^*>0$)\n",
    "\n",
    "$$\\frac{dy}{dt} + A y = f, \\quad y(0) = y_0.$$\n",
    "\n",
    "- Then $y(t) \\rightarrow A^{-1} f$ as $t \\rightarrow \\infty$, and the **Euler scheme** reads\n",
    "\n",
    "$$\\frac{y_{k+1} - y_k}{\\tau} = -A y_k + f.$$\n",
    "\n",
    "which leads to the Richardson iteration\n",
    "\n",
    "$$\n",
    "    y_{k+1} = y_k - \\tau(Ay_k -f)\n",
    "$$"
   ]
  },
  {
   "cell_type": "markdown",
   "metadata": {
    "slideshow": {
     "slide_type": "slide"
    }
   },
   "source": [
    "## Convergence of the Richardson method\n",
    "\n",
    "- Let $x_*$ be the solution; introduce an error $e_k = x_{k} - x_*$, then  \n",
    "\n",
    "$$\n",
    "     e_{k+1} = (I - \\tau A) e_k,\n",
    "$$\n",
    "\n",
    "therefore if $\\Vert I - \\tau A \\Vert < 1$ in any norm, the iteration converges. \n",
    "\n",
    "- For symmetric positive definite case it is always possible to select $\\tau$ such that the method converges.\n",
    "\n",
    "- What about the non-symmetric case? Below demo will be presented..."
   ]
  },
  {
   "cell_type": "markdown",
   "metadata": {
    "slideshow": {
     "slide_type": "slide"
    }
   },
   "source": [
    "## Optimal parameter choice\n",
    "\n",
    "- The choise of $\\tau$ that minimizes $\\|I - \\tau A\\|_2$ for $A = A^* > 0$ is (prove it!)\n",
    "\n",
    "$$\n",
    "  \\tau_\\mathrm{opt} = \\frac{2}{\\lambda_{\\min} + \\lambda_{\\max}}.\n",
    "$$\n",
    "\n",
    "where $\\lambda_{\\min}$ is the minimal eigenvalue, and $\\lambda_{\\max}$ is the maximal eigenvalue of the matrix $A$.\n",
    "\n",
    "- So, to find optimal parameter, we need to know the **bounds of the spectrum** of the matrix $A$, and we can compute it by using **power method**."
   ]
  },
  {
   "cell_type": "markdown",
   "metadata": {
    "slideshow": {
     "slide_type": "slide"
    }
   },
   "source": [
    "## Condition number and convergence speed\n",
    "\n",
    "Even with the optimal parameter choice, the error at the next step satisfies\n",
    "\n",
    "$$\\|e_{k+1}\\|_2 \\leq q \\|e_k\\|_2 , \\quad\\rightarrow \\quad \\|e_k\\|_2 \\leq q^{k} \\|e_0\\|_2,$$\n",
    "\n",
    "where \n",
    "\n",
    "$$\n",
    "   q = \\frac{\\lambda_{\\max} - \\lambda_{\\min}}{\\lambda_{\\max} + \\lambda_{\\min}} = \\frac{\\mathrm{cond}(A) - 1}{\\mathrm{cond}(A)+1},\n",
    "$$\n",
    "\n",
    "$$\\mathrm{cond}(A) = \\frac{\\lambda_{\\max}}{\\lambda_{\\min}} \\quad \\text{for} \\quad A=A^*>0$$\n",
    "\n",
    "is the condition number of $A$.\n",
    "\n",
    "Let us do some demo..."
   ]
  },
  {
   "cell_type": "code",
   "execution_count": 5,
   "metadata": {
    "slideshow": {
     "slide_type": "slide"
    }
   },
   "outputs": [
    {
     "name": "stdout",
     "output_type": "stream",
     "text": [
      "Maximum eigenvalue = 3.6825070656623624, minimum eigenvalue = 0.08101405277100562\n",
      "Condition number = 45.45516413147901\n",
      "[0.9186479  0.94484203 0.95170654 0.95466793 0.95595562 0.95651542\n",
      " 0.9567591  0.95686534 0.95691172 0.95693198 0.95694084 0.95694472\n",
      " 0.95694642 0.95694716 0.95694748 0.95694763 0.95694769 0.95694771\n",
      " 0.95694773 0.95694773 0.95694773 0.95694774 0.95694774 0.95694774\n",
      " 0.95694774 0.95694774 0.95694774 0.95694774 0.95694774 0.95694774\n",
      " 0.95694774 0.95694774 0.95694774 0.95694774 0.95694774 0.95694774\n",
      " 0.95694774 0.95694774 0.95694774 0.95694774 0.95694774 0.95694774\n",
      " 0.95694774 0.95694774 0.95694774 0.95694774 0.95694774 0.95694774\n",
      " 0.95694774 0.95694774 0.95694774 0.95694774 0.95694774 0.95694774\n",
      " 0.95694774 0.95694774 0.95694774 0.95694774 0.95694774 0.95694774\n",
      " 0.95694774 0.95694774 0.95694774 0.95694774 0.95694774 0.95694774\n",
      " 0.95694774 0.95694774 0.95694774 0.95694774 0.95694774 0.95694774\n",
      " 0.95694774 0.95694774 0.95694774 0.95694774 0.95694774 0.95694774\n",
      " 0.95694774 0.95694774 0.95694774 0.95694774 0.95694774 0.95694774\n",
      " 0.95694774 0.95694774 0.95694774 0.95694774 0.95694774 0.95694774\n",
      " 0.95694774 0.95694774 0.95694774 0.95694774 0.95694774 0.95694774\n",
      " 0.95694774 0.95694774 0.95694774]\n",
      "Theoretical factor: 0.9569477357923108\n"
     ]
    },
    {
     "data": {
      "image/png": "[encoded data removed]",
      "text/plain": [
       "<Figure size 432x288 with 1 Axes>"
      ]
     },
     "metadata": {
      "needs_background": "light"
     },
     "output_type": "display_data"
    }
   ],
   "source": [
    "import numpy as np\n",
    "import matplotlib.pyplot as plt\n",
    "%matplotlib inline\n",
    "\n",
    "import scipy as sp\n",
    "import scipy.sparse\n",
    "import scipy.sparse.linalg as spla\n",
    "import scipy\n",
    "from scipy.sparse import csc_matrix\n",
    "n = 10\n",
    "ex = np.ones(n);\n",
    "A = sp.sparse.spdiags(np.vstack((-ex,  2*ex, -ex)), [-1, 0, 1], n, n, 'csr'); \n",
    "rhs = np.ones(n)\n",
    "ev1, vec = spla.eigsh(A, k=2, which='LA')\n",
    "ev2, vec = spla.eigsh(A, k=2, which='SA')\n",
    "lam_max = ev1[0]\n",
    "lam_min = ev2[0]\n",
    "\n",
    "tau_opt = 2.0/(lam_max + lam_min)\n",
    "\n",
    "fig, ax = plt.subplots()\n",
    "plt.close(fig)\n",
    "\n",
    "niters = 100\n",
    "x = np.zeros(n)\n",
    "res_richardson = []\n",
    "for i in range(niters):\n",
    "    rr = A.dot(x) - rhs\n",
    "    x = x - tau_opt * rr\n",
    "    res_richardson.append(np.linalg.norm(rr))\n",
    "#Convergence of an ordinary Richardson (with optimal parameter)\n",
    "plt.semilogy(res_richardson)\n",
    "plt.xlabel(\"Number of iterations, $k$\", fontsize=20)\n",
    "plt.ylabel(\"Residual norm, $\\|Ax_k - b\\|_2$\", fontsize=20)\n",
    "plt.xticks(fontsize=20)\n",
    "plt.yticks(fontsize=20)\n",
    "print(\"Maximum eigenvalue = {}, minimum eigenvalue = {}\".format(lam_max, lam_min))\n",
    "cond_number = lam_max.real / lam_min.real\n",
    "print(\"Condition number = {}\".format(cond_number))\n",
    "print(np.array(res_richardson)[1:] / np.array(res_richardson)[:-1])\n",
    "print(\"Theoretical factor: {}\".format((cond_number - 1) / (cond_number + 1)))"
   ]
  },
  {
   "cell_type": "markdown",
   "metadata": {
    "slideshow": {
     "slide_type": "slide"
    }
   },
   "source": [
    "- Thus, for **ill-conditioned** matrices the error of the simple iteration method decays very slowly.<br>\n",
    "- This is another reason why **condition number** is so important:\n",
    "\n",
    "    * Besides  the bound on the error in the solution, it also gives an estimate of the number of iterations for the iterative methods.\n",
    "\n",
    "- Main questions for the iterative method is how to make the matrix **better conditioned**.\n",
    "- The answer is <span style='color:red'> use preconditioners</span>. Preconditioners will be discussed in further lectures."
   ]
  },
  {
   "cell_type": "markdown",
   "metadata": {
    "slideshow": {
     "slide_type": "slide"
    }
   },
   "source": [
    "### Consider non-hermitian matrix $A$\n",
    "\n",
    "Possible cases of Richardson iteration behaviour:\n",
    "- convergence\n",
    "- divergence\n",
    "- almost stable trajectory\n",
    "\n",
    "**Q:** how can we identify our case **before** running iterative method?"
   ]
  },
  {
   "cell_type": "code",
   "execution_count": 6,
   "metadata": {
    "slideshow": {
     "slide_type": "slide"
    }
   },
   "outputs": [
    {
     "name": "stdout",
     "output_type": "stream",
     "text": [
      "Spectrum of the matrix = [0.5+1.32287566j 0.5-1.32287566j]\n"
     ]
    }
   ],
   "source": [
    "# B = np.random.randn(2, 2)\n",
    "B = np.array([[1, 2], [-1, 0]])\n",
    "# B = np.array([[0, 1], [-1, 0]])\n",
    "x_true = np.zeros(2)\n",
    "f = B.dot(x_true)\n",
    "eigvals = np.linalg.eigvals(B)\n",
    "print(\"Spectrum of the matrix = {}\".format(eigvals))\n",
    "\n",
    "# Run Richardson iteration\n",
    "x = np.array([0, -1])\n",
    "tau = 1e-2\n",
    "conv_x = [x]\n",
    "r = B.dot(x) - f\n",
    "conv_r = [np.linalg.norm(r)]\n",
    "num_iter = 1000\n",
    "for i in range(num_iter):\n",
    "    x = x - tau * r\n",
    "    conv_x.append(x)\n",
    "    r = B.dot(x) - f\n",
    "    conv_r.append(np.linalg.norm(r))"
   ]
  },
  {
   "cell_type": "code",
   "execution_count": 7,
   "metadata": {
    "slideshow": {
     "slide_type": "slide"
    }
   },
   "outputs": [
    {
     "data": {
      "text/plain": [
       "Text(0, 0.5, 'Residual norm')"
      ]
     },
     "execution_count": 7,
     "metadata": {},
     "output_type": "execute_result"
    },
    {
     "data": {
      "image/png": "[encoded data removed]",
      "text/plain": [
       "<Figure size 432x288 with 1 Axes>"
      ]
     },
     "metadata": {
      "needs_background": "light"
     },
     "output_type": "display_data"
    }
   ],
   "source": [
    "plt.semilogy(conv_r)\n",
    "plt.xlabel(\"Number of iteration, $k$\", fontsize=20)\n",
    "plt.ylabel(\"Residual norm\", fontsize=20)"
   ]
  },
  {
   "cell_type": "code",
   "execution_count": 8,
   "metadata": {
    "slideshow": {
     "slide_type": "slide"
    }
   },
   "outputs": [
    {
     "data": {
      "text/plain": [
       "Text(0.5, 1.0, '$x_0 = (0, -1)$')"
      ]
     },
     "execution_count": 8,
     "metadata": {},
     "output_type": "execute_result"
    },
    {
     "data": {
      "image/png": "[encoded data removed]",
      "text/plain": [
       "<Figure size 432x288 with 1 Axes>"
      ]
     },
     "metadata": {
      "needs_background": "light"
     },
     "output_type": "display_data"
    }
   ],
   "source": [
    "plt.scatter([x[0] for x in conv_x], [x[1] for x in conv_x])\n",
    "plt.xlabel(\"$x$\", fontsize=20)\n",
    "plt.ylabel(\"$y$\", fontsize=20)\n",
    "plt.xticks(fontsize=20)\n",
    "plt.yticks(fontsize=20)\n",
    "plt.title(\"$x_0 = (0, -1)$\", fontsize=20)"
   ]
  },
  {
   "cell_type": "markdown",
   "metadata": {
    "slideshow": {
     "slide_type": "slide"
    }
   },
   "source": [
    "## Better iterative methods\n",
    "\n",
    "But before preconditioners, we can use **better iterative methods**. \n",
    "\n",
    "There is a whole **zoo** of iterative methods, but we need to know just few of them."
   ]
  },
  {
   "cell_type": "markdown",
   "metadata": {
    "slideshow": {
     "slide_type": "slide"
    }
   },
   "source": [
    "## Attempt 1: The steepest descent method\n",
    "\n",
    "- Suppose we **change** $\\tau$ every step, i.e. \n",
    "\n",
    "$$\n",
    "   x_{k+1} = x_k - \\tau_k (A x_k - f).\n",
    "$$\n",
    "\n",
    "- A possible choice of $\\tau_k$ is such that it minimizes norm of the current residual\n",
    "\n",
    "$$ \\tau_k = \\arg\\min_{\\tau} \\|A(x_k - \\tau_k (A x_k - f)) - f\\|_2^2.$$\n",
    "\n",
    "- This problem can be solved analytically (derive this solution!)\n",
    "\n",
    "$$ \\tau_k = \\frac{r_k^{\\top}r_k}{r_k^{\\top}Ar_k}, \\quad r_k = Ax_k - f $$\n",
    "\n",
    "- This method is called **the steepest descent**.\n",
    "\n",
    "- However, it still converges similarly to the Richardson iteration."
   ]
  },
  {
   "cell_type": "markdown",
   "metadata": {
    "slideshow": {
     "slide_type": "slide"
    }
   },
   "source": [
    "## Attempt 2: Chebyshev iteration\n",
    "\n",
    "Another way to find $\\tau_k$ is to consider\n",
    "\n",
    "$$e_{k+1} = (I - \\tau_k A) e_k = (I - \\tau_k A) (I - \\tau_{k-1} A)  e_{k-1} = \\ldots = p(A) e_0, $$\n",
    "\n",
    "where $p(A)$ is a **matrix polynomial** (simplest matrix function)  \n",
    "\n",
    "$$\n",
    "   p(A) = (I - \\tau_k A) \\ldots (I - \\tau_0 A),\n",
    "$$\n",
    "\n",
    "and $p(0) = 1$."
   ]
  },
  {
   "cell_type": "markdown",
   "metadata": {
    "slideshow": {
     "slide_type": "slide"
    }
   },
   "source": [
    "## Optimal choice of time steps\n",
    "The error is written as \n",
    "\n",
    "$$e_{k+1} = p(A) e_0, $$\n",
    "\n",
    "and hence\n",
    "\n",
    "$$\\|e_{k+1}\\| \\leq \\|p(A)\\| \\|e_0\\|, $$\n",
    "\n",
    "where $p(0) = 1$ and $p(A)$ is a **matrix polynomial**. \n",
    "\n",
    "To get better **error reduction**, we need to minimize\n",
    "\n",
    "$$\\Vert p(A) \\Vert$$ \n",
    "\n",
    "over all possible polynomials $p(x)$ of degree $k+1$ such that $p(0)=1$. We will use $\\|\\cdot\\|_2$."
   ]
  },
  {
   "cell_type": "markdown",
   "metadata": {
    "slideshow": {
     "slide_type": "slide"
    }
   },
   "source": [
    "##  Polynomials least deviating from zeros\n",
    "\n",
    "Important special case: $A = A^* > 0$.\n",
    "\n",
    "Then $A = U \\Lambda U^*$, \n",
    "\n",
    "and \n",
    "\n",
    "\n",
    "\n",
    "$$\\Vert p(A) \\Vert_2 = \\Vert U p(\\Lambda) U^* \\Vert_2 = \\Vert p(\\Lambda) \\Vert_2 = \\max_i |p(\\lambda_i)| \\overset{!}{\\leq}\n",
    "\\max_{\\lambda_\\min \\leq \\lambda {\\leq} \\lambda_\\max} |p(\\lambda)|.$$\n",
    "\n",
    "The latter inequality is the only approximation. Here we make a <span style='color:red'> crucial assumption </span> that we do not want to benefit from distribution of spectra between $\\lambda_\\min$ and $\\lambda_\\max$.\n",
    "\n",
    "Thus, we need to find a polynomial such that $p(0) = 1$, that has the least possible deviation from $0$ on $[\\lambda_\\min, \\lambda_\\max]$."
   ]
  },
  {
   "cell_type": "markdown",
   "metadata": {
    "slideshow": {
     "slide_type": "slide"
    }
   },
   "source": [
    "##  Polynomials least deviating from zeros (2)\n",
    "\n",
    "We can do the affine transformation of the interval $[\\lambda_\\min, \\lambda_\\max]$ to the interval $[-1, 1]$:\n",
    "\n",
    "$$\n",
    "\\xi = \\frac{{\\lambda_\\max + \\lambda_\\min - (\\lambda_\\min-\\lambda_\\max)x}}{2}, \\quad x\\in [-1, 1].\n",
    "$$\n",
    "\n",
    "The problem is then reduced to the problem of finding the **polynomial least deviating from zero** on an interval $[-1, 1]$."
   ]
  },
  {
   "cell_type": "markdown",
   "metadata": {
    "slideshow": {
     "slide_type": "slide"
    }
   },
   "source": [
    "## Exact solution: Chebyshev polynomials\n",
    "\n",
    "The exact solution to this problem is given by the famous **Chebyshev polynomials** of the form\n",
    "\n",
    "$$T_n(x) =  \\cos (n \\arccos x)$$"
   ]
  },
  {
   "cell_type": "markdown",
   "metadata": {
    "slideshow": {
     "slide_type": "slide"
    }
   },
   "source": [
    "## What do you need to know about Chebyshev polynomials\n",
    "\n",
    "1. This is a polynomial! \n",
    "\n",
    "2. We can express $T_n$ from $T_{n-1}$ and $T_{n-2}$: \n",
    "\n",
    "$$T_n(x) = 2x T_{n-1}(x) - T_{n-2}(x), \\quad T_0(x)=1, \\quad T_1(x)=x$$\n",
    "\n",
    "3. $|T_n(x)| \\leq 1$ on $x \\in [-1, 1]$.\n",
    "\n",
    "4. It has $(n+1)$ **alternation points**, where the maximal absolute value is achieved (this is the sufficient and necessary condition for the **optimality**) (Chebyshev alternance theorem, no proof here).\n",
    "\n",
    "5. The **roots** are just \n",
    "\n",
    "$$n \\arccos x_k = \\frac{\\pi}{2} + \\pi k, \\quad \\rightarrow\\quad x_k = \\cos \\frac{\\pi(2k + 1)}{2n}, \\; k = 0, \\ldots,n-1$$\n",
    "\n",
    "We can plot them..."
   ]
  },
  {
   "cell_type": "code",
   "execution_count": 9,
   "metadata": {
    "slideshow": {
     "slide_type": "slide"
    }
   },
   "outputs": [
    {
     "data": {
      "text/plain": [
       "Text(0.5, 1.0, 'Interval $x\\\\in[-1.1, 1.1]$')"
      ]
     },
     "execution_count": 9,
     "metadata": {},
     "output_type": "execute_result"
    },
    {
     "data": {
      "image/png": "[encoded data removed]",
      "text/plain": [
       "<Figure size 432x288 with 2 Axes>"
      ]
     },
     "metadata": {
      "needs_background": "light"
     },
     "output_type": "display_data"
    }
   ],
   "source": [
    "import numpy as np\n",
    "import matplotlib.pyplot as plt\n",
    "%matplotlib inline\n",
    "x1 = np.linspace(-1, 1, 128)\n",
    "x2 = np.linspace(-1.1, 1.1, 128)\n",
    "p = np.polynomial.Chebyshev((0, 0, 0, 0, 0, 0, 0, 0, 0, 1), (-1, 1)) #These are Chebyshev series, a proto of \"chebfun system\" in MATLAB\n",
    "fig, (ax1, ax2) = plt.subplots(1, 2)\n",
    "ax1.plot(x1, p(x1))\n",
    "ax1.set_title('Interval $x\\in[-1, 1]$')\n",
    "ax2.plot(x2, p(x2))\n",
    "ax2.set_title('Interval $x\\in[-1.1, 1.1]$')"
   ]
  },
  {
   "cell_type": "markdown",
   "metadata": {
    "slideshow": {
     "slide_type": "slide"
    }
   },
   "source": [
    "## Convergence of the Chebyshev-accelerated Richardson iteration\n",
    "\n",
    "Note that $p(x) = (1-\\tau_n x)\\dots (1-\\tau_0 x)$, hence roots of $p(x)$ are $1/\\tau_i$ and that we additionally need to map back from $[-1,1]$ to $[\\lambda_\\min, \\lambda_\\max]$.\n",
    "This results into \n",
    "\n",
    "$$\\tau_i = \\frac{2}{\\lambda_\\max + \\lambda_\\min - (\\lambda_\\max - \\lambda_\\min)x_i}, \\quad x_i = \\cos \\frac{\\pi(2i + 1)}{2n}\\quad i=0,\\dots,n-1$$\n",
    "\n",
    "The convergence (we only give the result without the proof) is now given by\n",
    "\n",
    "$$\n",
    "   e_{k+1} \\leq C q^k e_0, \\quad q = \\frac{\\sqrt{\\mathrm{cond}(A)}-1}{\\sqrt{\\mathrm{cond}(A)}+1},\n",
    "$$\n",
    "\n",
    "which is better than in the Richardson iteration."
   ]
  },
  {
   "cell_type": "code",
   "execution_count": 10,
   "metadata": {},
   "outputs": [],
   "source": [
    "import scipy as sp\n",
    "from scipy import sparse"
   ]
  },
  {
   "cell_type": "code",
   "execution_count": 12,
   "metadata": {},
   "outputs": [
    {
     "name": "stdout",
     "output_type": "stream",
     "text": [
      "[3.6823714727622603, 3.6812868520771196, 3.679118264041781, 3.67586701493259, 3.671535063180437, 3.666125018191075, 3.659640138773312, 3.652084331176023, 3.6434621467351755, 3.633778779132272, 3.6230400612658724, 3.611252461738073, 3.598423080958062, 3.5845596468650998, 3.569670510273498, 3.5537646398423974, 3.5368516166733874, 3.5189416285392063, 3.5000454637470084, 3.4801745046398915, 3.4593407207405993, 3.4375566615415263, 3.414835448945377, 3.3911907693610166, 3.3666368654592964, 3.341188527593797, 3.314861084891674, 3.2876703960199647, 3.2596328396329195, 3.2307653045061153, 3.2010851793632846, 3.170610342402003, 3.139359150524528, 3.1073504282802893, 3.0746034565266838, 3.041137960815007, 3.0069740995085215, 2.972132451639808, 2.93663400451473, 2.9005001410704634, 2.8637526269952147, 2.826413597617384, 2.7885055445720734, 2.750051302252964, 2.711074034057731, 2.6715972184352825, 2.6316446347432154, 2.5912403489240226, 2.5504086990086683, 2.5091742804562673, 2.467561931338702, 2.425596717379095, 2.383303916853154, 2.3407090053624873, 2.29783764048905, 2.2547156463399785, 2.2113689979921127, 2.167823805845582, 2.124106299895876, 2.0802428139338756, 2.036259769683363, 1.9921836608855632, 1.9480410373403036, 1.9038584889134087, 1.8596626295199599, 1.815480081093065, 1.7713374575478054, 1.7272613487500057, 1.6832783044994928, 1.6394148185374926, 1.5956973125877867, 1.5521521204412556, 1.50880547209339, 1.4656834779443182, 1.422812113070881, 1.3802172015802145, 1.3379244010542735, 1.2959591870946663, 1.2543468379771012, 1.2131124194247003, 1.1722807695093462, 1.1318764836901536, 1.0919238999980867, 1.052447084375637, 1.0134698161804045, 0.9750155738612949, 0.9371075208159845, 0.8997684914381542, 0.863020977362905, 0.8268871139186382, 0.7913886667935603, 0.7565470189248471, 0.7223831576183615, 0.6889176619066844, 0.656170690153079, 0.6241619679088404, 0.5929107760313654, 0.5624359390700837, 0.5327558139272535, 0.5038882788004486, 0.47585072241340365, 0.44866003354169437, 0.42233259083957164, 0.39688425297407237, 0.37233034907235174, 0.3486856694879916, 0.32596445689184184, 0.3041803976927693, 0.2833466137934768, 0.2634756546863597, 0.24457948989416223, 0.2266695017599809, 0.20975647859097113, 0.19385060815987054, 0.17896147156826858, 0.16509803747530638, 0.15226865669529555, 0.14048105716749593, 0.12974233930109635, 0.12005897169819302, 0.1114367872573454, 0.10388097966005638, 0.09739610024229339, 0.09198605525293146, 0.08765410350077829, 0.08440285439158712, 0.08223426635624875, 0.08114964567110783]\n"
     ]
    },
    {
     "data": {
      "image/png": "[encoded data removed]",
      "text/plain": [
       "<Figure size 432x288 with 1 Axes>"
      ]
     },
     "metadata": {
      "needs_background": "light"
     },
     "output_type": "display_data"
    }
   ],
   "source": [
    "import numpy as np\n",
    "import matplotlib.pyplot as plt\n",
    "\n",
    "A = sp.sparse.spdiags(np.vstack((-ex,  2*ex, -ex)), [-1, 0, 1], n, n, 'csr'); \n",
    "rhs = np.ones(n)\n",
    "ev1, vec = spla.eigsh(A, k=2, which='LA')\n",
    "ev2, vec = spla.eigsh(A, k=2, which='SA')\n",
    "lam_max = ev1[0]\n",
    "lam_min = ev2[0]\n",
    "\n",
    "niters = 128\n",
    "roots = [np.cos((np.pi * (2 * i + 1)) / (2 * niters)) for i in range(niters)]\n",
    "taus = [(lam_max + lam_min - (lam_min - lam_max) * r) / 2 for r in roots]\n",
    "x = np.zeros(n)\n",
    "r = A.dot(x) - rhs\n",
    "res_cheb = [np.linalg.norm(r)]\n",
    "\n",
    "print(taus)\n",
    "\n",
    "for i in range(niters):\n",
    "    x = x - 1.0 / taus[i] * r\n",
    "    r = A.dot(x) - rhs\n",
    "    res_cheb.append(np.linalg.norm(r))\n",
    "    \n",
    "plt.semilogy(res_richardson, label=\"Richardson\")\n",
    "plt.semilogy(res_cheb, label=\"Chebyshev\")\n",
    "plt.legend(fontsize=20)\n",
    "plt.xlabel(\"Number of iterations, $k$\", fontsize=20)\n",
    "plt.ylabel(\"Residual norm, $\\|Ax_k - b\\|_2$\", fontsize=20)\n",
    "plt.xticks(fontsize=20)\n",
    "_ = plt.yticks(fontsize=20)"
   ]
  },
  {
   "cell_type": "markdown",
   "metadata": {
    "slideshow": {
     "slide_type": "fragment"
    }
   },
   "source": [
    "### What happened with great Chebyshev iterations?"
   ]
  },
  {
   "cell_type": "code",
   "execution_count": 14,
   "metadata": {
    "slideshow": {
     "slide_type": "slide"
    }
   },
   "outputs": [
    {
     "name": "stdout",
     "output_type": "stream",
     "text": [
      "[3.6823714727622603, 3.6812868520771196, 3.679118264041781, 3.67586701493259, 3.671535063180437, 3.666125018191075, 3.659640138773312, 3.652084331176023, 3.6434621467351755, 3.633778779132272, 3.6230400612658724, 3.611252461738073, 3.598423080958062, 3.5845596468650998, 3.569670510273498, 3.5537646398423974, 3.5368516166733874, 3.5189416285392063, 3.5000454637470084, 3.4801745046398915, 3.4593407207405993, 3.4375566615415263, 3.414835448945377, 3.3911907693610166, 3.3666368654592964, 3.341188527593797, 3.314861084891674, 3.2876703960199647, 3.2596328396329195, 3.2307653045061153, 3.2010851793632846, 3.170610342402003, 3.139359150524528, 3.1073504282802893, 3.0746034565266838, 3.041137960815007, 3.0069740995085215, 2.972132451639808, 2.93663400451473, 2.9005001410704634, 2.8637526269952147, 2.826413597617384, 2.7885055445720734, 2.750051302252964, 2.711074034057731, 2.6715972184352825, 2.6316446347432154, 2.5912403489240226, 2.5504086990086683, 2.5091742804562673, 2.467561931338702, 2.425596717379095, 2.383303916853154, 2.3407090053624873, 2.29783764048905, 2.2547156463399785, 2.2113689979921127, 2.167823805845582, 2.124106299895876, 2.0802428139338756, 2.036259769683363, 1.9921836608855632, 1.9480410373403036, 1.9038584889134087, 1.8596626295199599, 1.815480081093065, 1.7713374575478054, 1.7272613487500057, 1.6832783044994928, 1.6394148185374926, 1.5956973125877867, 1.5521521204412556, 1.50880547209339, 1.4656834779443182, 1.422812113070881, 1.3802172015802145, 1.3379244010542735, 1.2959591870946663, 1.2543468379771012, 1.2131124194247003, 1.1722807695093462, 1.1318764836901536, 1.0919238999980867, 1.052447084375637, 1.0134698161804045, 0.9750155738612949, 0.9371075208159845, 0.8997684914381542, 0.863020977362905, 0.8268871139186382, 0.7913886667935603, 0.7565470189248471, 0.7223831576183615, 0.6889176619066844, 0.656170690153079, 0.6241619679088404, 0.5929107760313654, 0.5624359390700837, 0.5327558139272535, 0.5038882788004486, 0.47585072241340365, 0.44866003354169437, 0.42233259083957164, 0.39688425297407237, 0.37233034907235174, 0.3486856694879916, 0.32596445689184184, 0.3041803976927693, 0.2833466137934768, 0.2634756546863597, 0.24457948989416223, 0.2266695017599809, 0.20975647859097113, 0.19385060815987054, 0.17896147156826858, 0.16509803747530638, 0.15226865669529555, 0.14048105716749593, 0.12974233930109635, 0.12005897169819302, 0.1114367872573454, 0.10388097966005638, 0.09739610024229339, 0.09198605525293146, 0.08765410350077829, 0.08440285439158712, 0.08223426635624875, 0.08114964567110783]\n",
      "[  0 127  63  64  31  96  32  95  15 112  48  79  16 111  47  80   7 120\n",
      "  56  71  24 103  39  88   8 119  55  72  23 104  40  87   3 124  60  67\n",
      "  28  99  35  92  12 115  51  76  19 108  44  83   4 123  59  68  27 100\n",
      "  36  91  11 116  52  75  20 107  43  84   1 126  62  65  30  97  33  94\n",
      "  14 113  49  78  17 110  46  81   6 121  57  70  25 102  38  89   9 118\n",
      "  54  73  22 105  41  86   2 125  61  66  29  98  34  93  13 114  50  77\n",
      "  18 109  45  82   5 122  58  69  26 101  37  90  10 117  53  74  21 106\n",
      "  42  85] 128\n"
     ]
    },
    {
     "data": {
      "image/png": "[encoded data removed]",
      "text/plain": [
       "<Figure size 432x288 with 1 Axes>"
      ]
     },
     "metadata": {
      "needs_background": "light"
     },
     "output_type": "display_data"
    }
   ],
   "source": [
    "niters = 128\n",
    "roots = [np.cos((np.pi * (2 * i + 1)) / (2 * niters)) for i in range(niters)]\n",
    "taus = [(lam_max + lam_min - (lam_min - lam_max) * r) / 2 for r in roots]\n",
    "x = np.zeros(n)\n",
    "r = A.dot(x) - rhs\n",
    "res_cheb_even = [np.linalg.norm(r)]\n",
    "print(taus)\n",
    "\n",
    "# Implementation may be non-optimal if number of iterations is not power of two\n",
    "def leb_shuffle_2n(n):\n",
    "    if n == 1:\n",
    "        return np.array([0,], dtype=int)\n",
    "    else:\n",
    "        prev = leb_shuffle_2n(n // 2)\n",
    "        ans = np.zeros(n, dtype=int)\n",
    "        ans[::2] = prev\n",
    "        ans[1::2] = n - 1 - prev\n",
    "        return ans\n",
    "\n",
    "good_perm_even = leb_shuffle_2n(niters)\n",
    "print(good_perm_even, len(good_perm_even))\n",
    "# good_perm_even = np.random.permutation([i for i in range(niters)])\n",
    "\n",
    "for i in range(niters):\n",
    "    x = x - 1.0/taus[good_perm_even[i]] * r\n",
    "    r = A.dot(x) - rhs\n",
    "    res_cheb_even.append(np.linalg.norm(r))\n",
    "\n",
    "    \n",
    "plt.semilogy(res_richardson, label=\"Richardson\")\n",
    "plt.semilogy(res_cheb_even, label=\"Chebyshev\")\n",
    "plt.legend(fontsize=20)\n",
    "plt.xlabel(\"Number of iterations, $k$\", fontsize=20)\n",
    "plt.ylabel(\"Residual norm, $\\|Ax_k - b\\|_2$\", fontsize=20)\n",
    "plt.xticks(fontsize=20)\n",
    "_ = plt.yticks(fontsize=20)"
   ]
  },
  {
   "cell_type": "markdown",
   "metadata": {
    "slideshow": {
     "slide_type": "fragment"
    }
   },
   "source": [
    "- Permutation of roots of Chebyshev polynomial has crucial effect on convergence\n",
    "- On the optimal permutation you can read in paper (V. Lebedev, S. Finogenov 1971)  ([ru](http://www.mathnet.ru/links/42ab1a270ad179d43359ef8fab53422c/zvmmf6870.pdf), [en](https://www.sciencedirect.com/science/article/abs/pii/0041555371901698?via%3Dihub))"
   ]
  },
  {
   "cell_type": "markdown",
   "metadata": {
    "slideshow": {
     "slide_type": "slide"
    }
   },
   "source": [
    "### [Chebfun](http://www.chebfun.org/) project\n",
    "\n",
    "- Opensource project for numerical computing ([Python](https://github.com/chebpy/chebpy) and [Matlab](https://github.com/chebfun/chebfun) interfaces)\n",
    "- It is based on numerical algorithms working with piecewise polynomial interpolants and Chebyshev polynomials\n",
    "- This project was initiated by Nick Trefethen and his student Zachary Battles in 2002, see [paper on chebfun project in SISC](http://www.chebfun.org/publications/chebfun_paper.pdf)\n",
    "- Chebfun toolbox focuses mostly on the following problems\n",
    "    - Approximation\n",
    "    - Quadrature\n",
    "    - ODE\n",
    "    - PDE\n",
    "    - Rootfinding\n",
    "    - 1D global optimization"
   ]
  },
  {
   "cell_type": "markdown",
   "metadata": {
    "slideshow": {
     "slide_type": "slide"
    }
   },
   "source": [
    "## Beyond Chebyshev\n",
    "\n",
    "- We have made an important assumption about the spectrum: it is contained within an interval over the real line (and we need to know the bounds)\n",
    "\n",
    "- If the spectrum is contained within **two intervals**, and we know the bounds, we can also put the optimization problem for the **optimal polynomial**."
   ]
  },
  {
   "cell_type": "markdown",
   "metadata": {
    "slideshow": {
     "slide_type": "slide"
    }
   },
   "source": [
    "## Spectrum of the matrix contained in multiple segments\n",
    "\n",
    "- For the case of **two segments** the best polynomial is given by **[Zolotarev polynomials](https://www.encyclopediaofmath.org/index.php/Zolotarev_polynomials)** (expressed in terms of elliptic functions). Original paper was published in 1877, see details [here](http://gpntb.dlibrary.org/ru/nodes/4245-zolotarev-e-prilozhenie-ellipticheskih-funktsiy-k-voprosam-o-funktsiyah-naimenee-i-naibolee-otklonyayuschihsya-ot-nulya-spb-1877) \n",
    "\n",
    "- For the case of **more than two segments** the best polynomial can be expressed in terms of **hyperelliptic functions**"
   ]
  },
  {
   "cell_type": "markdown",
   "metadata": {
    "slideshow": {
     "slide_type": "slide"
    }
   },
   "source": [
    "## How can we make it better\n",
    "\n",
    "- The implementation of the Chebyshev acceleration requires the knowledge of the spectrum.\n",
    "\n",
    "- It only stores the **previous vector** $x_k$ and computes the new correction vector\n",
    "\n",
    "$$r_k = A x_k - f.$$\n",
    "\n",
    "- It belongs to the class of **two-term** iterative methods, i.e. it approximates $x_{k+1}$ using 2 vectors: $x_k$ and $r_k$.\n",
    "\n",
    "- It appears that if we **store more vectors**, then we can go without the spectrum estimation (and better convergence in practice)!"
   ]
  },
  {
   "cell_type": "markdown",
   "metadata": {
    "slideshow": {
     "slide_type": "slide"
    }
   },
   "source": [
    "## Crucial point: Krylov subspace\n",
    "\n",
    "The Chebyshev method produces the approximation of the form\n",
    "\n",
    "$$x_{k+1} = x_0 + p(A) r_0,$$\n",
    "\n",
    "i.e. it lies in the **Krylov subspace** of the matrix  which is defined as\n",
    "\n",
    "$$\n",
    "   \\mathcal{K}_k(A, r_0) = \\mathrm{Span}(r_0, Ar_0, A^2 r_0, \\ldots, A^{k-1}r_0 )\n",
    "$$\n",
    "\n",
    "The most natural approach then is to find the vector in this **linear subspace** that minimizes \n",
    "certain **norm of the error**"
   ]
  },
  {
   "cell_type": "markdown",
   "metadata": {
    "slideshow": {
     "slide_type": "slide"
    }
   },
   "source": [
    "## Idea of Krylov methods\n",
    "\n",
    "The idea is to minimize given functional:\n",
    "- Energy norm of error for systems with hermitian positive-definite matrices (CG method).\n",
    "- Residual norm for systems with general matrices (MINRES and GMRES methods).\n",
    "- Rayleigh quotient for eigenvalue problems (Lanczos method).\n",
    "\n",
    "To make methods practical one has to \n",
    "1. Orthogonalize vectors $A^i r_0$ of the Krylov subspace for stability (Lanczos process).\n",
    "2. Derive recurrent formulas to decrease complexity.\n",
    "\n",
    "We will consider these methods in details on the next lecture."
   ]
  },
  {
   "cell_type": "markdown",
   "metadata": {
    "slideshow": {
     "slide_type": "slide"
    }
   },
   "source": [
    "## Take home message\n",
    "\n",
    "- Main idea of iterative methods\n",
    "- Richardson iteration: hermitian and non-hermitian case\n",
    "- Chebyshev acceleration\n",
    "- Definition of Krylov subspace"
   ]
  },
  {
   "cell_type": "markdown",
   "metadata": {
    "slideshow": {
     "slide_type": "slide"
    }
   },
   "source": [
    "### Questions?"
   ]
  },
  {
   "cell_type": "code",
   "execution_count": null,
   "metadata": {
    "slideshow": {
     "slide_type": "skip"
    }
   },
   "outputs": [],
   "source": [
    "from IPython.core.display import HTML\n",
    "def css_styling():\n",
    "    styles = open(\"./styles/custom.css\", \"r\").read()\n",
    "    return HTML(styles)\n",
    "css_styling()"
   ]
  }
 ],
 "metadata": {
  "celltoolbar": "Slideshow",
  "kernelspec": {
   "display_name": "Python 3 (ipykernel)",
   "language": "python",
   "name": "python3"
  },
  "language_info": {
   "codemirror_mode": {
    "name": "ipython",
    "version": 3
   },
   "file_extension": ".py",
   "mimetype": "text/x-python",
   "name": "python",
   "nbconvert_exporter": "python",
   "pygments_lexer": "ipython3",
   "version": "3.9.7"
  }
 },
 "nbformat": 4,
 "nbformat_minor": 2
}
